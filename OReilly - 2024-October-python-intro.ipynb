{
 "cells": [
  {
   "cell_type": "markdown",
   "metadata": {},
   "source": [
    "# Agenda\n",
    "\n",
    "1. What is a programming language? What is Python?\n",
    "2. Using Jupyter (and where you can get/install/use it)\n",
    "3. Basic data (ints and strings)\n",
    "    - Assignment\n",
    "    - Variables\n",
    "    - How variables work (and so forth)\n",
    "    - Displaying things with `print`)\n",
    "4. Getting input from the user (with `input`)\n",
    "    - Assigning user input to a variable\n",
    "    - Simple f-strings\n",
    "5. Comparisons and equality\n",
    "    - `True` and `False`\n",
    "    - Comparisons with `==` and friends\n",
    "    - Using `if` and `else` to make decisions\n",
    "6. More complex conditions\n",
    "    - Using `elif` along with `if` and `else`\n",
    "    - Using `and`, `or`, and `not` to combine conditions in new ways\n",
    "7. Numbers\n",
    "    - integers\n",
    "    - floats\n",
    "8. Strings (text)\n",
    "    - Creating them\n",
    "    - Retrieving from them\n",
    "9. Working with strings in \"practical\" environments\n",
    "10. Methods\n",
    "    - Invoking methods on strings\n",
    "11. Non-English characters with Unicode"
   ]
  },
  {
   "cell_type": "markdown",
   "metadata": {},
   "source": [
    "# What is a programming language? What is Python?\n",
    "\n",
    "When computers were first invented, each computer could solve one problem. If you wanted to change the problem it was solving, you needed to rework the computer.\n",
    "\n",
    "People then came up with the idea of a general-purpose computer, one that could be used to solve many different problems. We could specify how we want to solve the problem by giving it instructions in binary code (1s and 0s). \n",
    "\n",
    "People then came up with the idea of a higher-level programming language, one that is closer to human language, but which is then translated into 1s and 0s.  There are hundreds of thousands of programming languages today, each of which works a little differently.\n",
    "\n",
    "- Some are designed to be very high level, closer to how humans think/write\n",
    "- Some are very low level, designed to be closer to how computers work\n",
    "- Some run very fast, some very slow\n",
    "- Some are good at graphics\n",
    "- Some are good at using very little memory\n",
    "- Some are good at designing chips\n",
    "\n",
    "You've probably heard of a bunch of them:\n",
    "- C (low level, runs very fast, and is very efficient)\n",
    "- C++ (a little higher level than C, also runs very fast and is very efficient -- and very complex)\n",
    "- Java (a lot higher level than C++, runs (now) very fast)\n",
    "- bash/zsh for shell scripts (it only is meant to be used in certain areas, and runs very slowly, but is great at working with files and directories)\n",
    "- Python (very high level, doesn't run super fast, but is meant to be readable)\n",
    "\n",
    "It's not that hard to write software! But you will spend most of your time debugging, editing, and changing software. If it's readable, then you'll have an easier time doing that.\n",
    "\n",
    "\"Low floors and high ceilings\" -- originally for the Logo language, but I think it's more appropriate for Python\n",
    "\n",
    "### Where is Python used?\n",
    "\n",
    "- Data analytics\n",
    "- Machine learning\n",
    "- Natural language processing\n",
    "- Devops (server allocation and configuration)\n",
    "- Cybersecurity\n",
    "- Web applications\n",
    "- APIs (creating and consuming)\n",
    "- Education (a ton of universities now teach Python as their first language for CS students)\n",
    "\n",
    "## Where is Python weak?\n",
    "\n",
    "- It doesn't execute that quickly. (The good news is that you can write/debug Python 10x faster than other languages. If your salary is greater than the cost of a cloud server for a few hours, then that's a big savings!)\n",
    "- It doesn't really have a lot of mobile facilities\n",
    "\n",
    "R is a language for statistics and analysis. For years, R was the go-to for stats programming.  Python has, slowly but surely, been eclipsing R -- in capabilities, and in popularity. A big reason is that Python is an all-purpose language, whereas R is really only meant for data analysis."
   ]
  },
  {
   "cell_type": "markdown",
   "metadata": {},
   "source": [
    "# How can you use Python?\n",
    "\n",
    "1. Install Python on your computer, and use an editor (either the IDLE editor that comes with Python, or another one that you can download, such as PyCharm or VSCode.) This can be a bit much for someone new to programming and Python to do.\n",
    "2. Use Anaconda, which is an all-in-one installer that makes it much easier to do step 1.\n",
    "3. Install Python on your computer, and install Jupyter, as well. Then you don't need to use an editor, but you can use Jupyter, like I do.\n",
    "4. Google Colab, which is a version of Jupyter that you can use, for free, via your browser. You'll need to create a new notebook in the Colab."
   ]
  },
  {
   "cell_type": "code",
   "execution_count": null,
   "metadata": {},
   "outputs": [],
   "source": []
  }
 ],
 "metadata": {
  "kernelspec": {
   "display_name": "Python 3 (ipykernel)",
   "language": "python",
   "name": "python3"
  },
  "language_info": {
   "codemirror_mode": {
    "name": "ipython",
    "version": 3
   },
   "file_extension": ".py",
   "mimetype": "text/x-python",
   "name": "python",
   "nbconvert_exporter": "python",
   "pygments_lexer": "ipython3",
   "version": "3.13.0"
  }
 },
 "nbformat": 4,
 "nbformat_minor": 4
}
