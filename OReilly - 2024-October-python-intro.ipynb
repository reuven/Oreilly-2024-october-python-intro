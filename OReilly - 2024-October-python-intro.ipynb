{
 "cells": [
  {
   "cell_type": "markdown",
   "metadata": {},
   "source": [
    "# Agenda\n",
    "\n",
    "1. What is a programming language? What is Python?\n",
    "2. Using Jupyter (and where you can get/install/use it)\n",
    "3. Basic data (ints and strings)\n",
    "    - Assignment\n",
    "    - Variables\n",
    "    - How variables work (and so forth)\n",
    "    - Displaying things with `print`)\n",
    "4. Getting input from the user (with `input`)\n",
    "    - Assigning user input to a variable\n",
    "    - Simple f-strings\n",
    "5. Comparisons and equality\n",
    "    - `True` and `False`\n",
    "    - Comparisons with `==` and friends\n",
    "    - Using `if` and `else` to make decisions\n",
    "6. More complex conditions\n",
    "    - Using `elif` along with `if` and `else`\n",
    "    - Using `and`, `or`, and `not` to combine conditions in new ways\n",
    "7. Numbers\n",
    "    - integers\n",
    "    - floats\n",
    "8. Strings (text)\n",
    "    - Creating them\n",
    "    - Retrieving from them\n",
    "9. Working with strings in \"practical\" environments\n",
    "10. Methods\n",
    "    - Invoking methods on strings\n",
    "11. Non-English characters with Unicode"
   ]
  },
  {
   "cell_type": "markdown",
   "metadata": {},
   "source": [
    "# What is a programming language? What is Python?\n",
    "\n",
    "When computers were first invented, each computer could solve one problem. If you wanted to change the problem it was solving, you needed to rework the computer.\n",
    "\n",
    "People then came up with the idea of a general-purpose computer, one that could be used to solve many different problems. We could specify how we want to solve the problem by giving it instructions in binary code (1s and 0s). \n",
    "\n",
    "People then came up with the idea of a higher-level programming language, one that is closer to human language, but which is then translated into 1s and 0s.  There are hundreds of thousands of programming languages today, each of which works a little differently.\n",
    "\n",
    "- Some are designed to be very high level, closer to how humans think/write\n",
    "- Some are very low level, designed to be closer to how computers work\n",
    "- Some run very fast, some very slow\n",
    "- Some are good at graphics\n",
    "- Some are good at using very little memory\n",
    "- Some are good at designing chips\n",
    "\n",
    "You've probably heard of a bunch of them:\n",
    "- C (low level, runs very fast, and is very efficient)\n",
    "- C++ (a little higher level than C, also runs very fast and is very efficient -- and very complex)\n",
    "- Java (a lot higher level than C++, runs (now) very fast)\n",
    "- bash/zsh for shell scripts (it only is meant to be used in certain areas, and runs very slowly, but is great at working with files and directories)\n",
    "- Python (very high level, doesn't run super fast, but is meant to be readable)\n",
    "\n",
    "It's not that hard to write software! But you will spend most of your time debugging, editing, and changing software. If it's readable, then you'll have an easier time doing that.\n",
    "\n",
    "\"Low floors and high ceilings\" -- originally for the Logo language, but I think it's more appropriate for Python\n",
    "\n",
    "### Where is Python used?\n",
    "\n",
    "- Data analytics\n",
    "- Machine learning\n",
    "- Natural language processing\n",
    "- Devops (server allocation and configuration)\n",
    "- Cybersecurity\n",
    "- Web applications\n",
    "- APIs (creating and consuming)\n",
    "- Education (a ton of universities now teach Python as their first language for CS students)\n",
    "\n",
    "## Where is Python weak?\n",
    "\n",
    "- It doesn't execute that quickly. (The good news is that you can write/debug Python 10x faster than other languages. If your salary is greater than the cost of a cloud server for a few hours, then that's a big savings!)\n",
    "- It doesn't really have a lot of mobile facilities\n",
    "\n",
    "R is a language for statistics and analysis. For years, R was the go-to for stats programming.  Python has, slowly but surely, been eclipsing R -- in capabilities, and in popularity. A big reason is that Python is an all-purpose language, whereas R is really only meant for data analysis."
   ]
  },
  {
   "cell_type": "markdown",
   "metadata": {},
   "source": [
    "# How can you use Python?\n",
    "\n",
    "1. Install Python on your computer, and use an editor (either the IDLE editor that comes with Python, or another one that you can download, such as PyCharm or VSCode.) This can be a bit much for someone new to programming and Python to do.\n",
    "2. Use Anaconda, which is an all-in-one installer that makes it much easier to do step 1.\n",
    "3. Install Python on your computer, and install Jupyter, as well. Then you don't need to use an editor, but you can use Jupyter, like I do.\n",
    "4. Google Colab, which is a version of Jupyter that you can use, for free, via your browser. You'll need to create a new notebook in the Colab."
   ]
  },
  {
   "cell_type": "markdown",
   "metadata": {},
   "source": [
    "# Using Jupyter\n",
    "\n",
    "Jupyter gives you the illusion of having Python run inside of your browser. It breaks things into \"cells,\" rectangles into which you can type code or text. Each cell has a \"mode,\" either \"Markdown\" (for text) or \"code\" (for code).\n",
    "\n",
    "I'm typing now into a cell. This cell is in Markdown (formatted text) mode. There are actually two modes for typing into Jupyter:\n",
    "\n",
    "- Edit mode, where typing adds text to a cell. You can enter edit mode by clicking inside of a cell or pressing ENTER. Once in edit mode, anything you type is entered.\n",
    "- Command mode, where typing gives one-character commands to Jupyter. If you're in command mode, anything you type is *not* displayed. Rather, it tells Jupyter what you want to do. You can enter command mode by pressing ESC or clicking to the left of the cell.\n",
    "\n",
    "What commands can we use in command mode?\n",
    "- `c` -- copies the current cell\n",
    "- `x` -- cuts the current cell\n",
    "- `v` -- pastes the most recent cut/copy\n",
    "- `a` -- create a new cell above the current one\n",
    "- `b` -- create a new cell below the current one\n",
    "- `m` -- turn the current cell into Markdown\n",
    "- `y` -- turn the current cell into code\n",
    "\n",
    "Always, in both command and edit mode, shift+ENTER \"executes\" the cell. This means that if you've entered Markdown text, it'll be formatted. If you've entered Python code, it'll be run."
   ]
  },
  {
   "cell_type": "code",
   "execution_count": 3,
   "metadata": {},
   "outputs": [
    {
     "name": "stdout",
     "output_type": "stream",
     "text": [
      "Hello, world!\n"
     ]
    }
   ],
   "source": [
    "# this is a comment, starting with # and going to the end of the line\n",
    "# Python ignores comments completely. They are 100% for people (yourself and others) to know what's going on.\n",
    "\n",
    "print('Hello, world!')"
   ]
  },
  {
   "cell_type": "code",
   "execution_count": 4,
   "metadata": {},
   "outputs": [
    {
     "name": "stdout",
     "output_type": "stream",
     "text": [
      "Hello, Reuven!\n"
     ]
    }
   ],
   "source": [
    "print('Hello, Reuven!')"
   ]
  },
  {
   "cell_type": "code",
   "execution_count": 5,
   "metadata": {},
   "outputs": [
    {
     "name": "stdout",
     "output_type": "stream",
     "text": [
      "5\n"
     ]
    }
   ],
   "source": [
    "# can I use numbers?\n",
    "\n",
    "print(5)"
   ]
  },
  {
   "cell_type": "code",
   "execution_count": 7,
   "metadata": {},
   "outputs": [
    {
     "name": "stdout",
     "output_type": "stream",
     "text": [
      "8\n"
     ]
    }
   ],
   "source": [
    "# in this case, the stuff inside of the () gets evaluated by Python first. It sees 5+3,\n",
    "# and it knows that 5+3 gives us 8, and so print doesn't know that there was 5+3 there, it\n",
    "# just knows that it was to print 8.\n",
    "\n",
    "print(5 + 3)"
   ]
  },
  {
   "cell_type": "markdown",
   "metadata": {},
   "source": [
    "# Text is in quotes\n",
    "\n",
    "If we want Python to print text as we wrote it, we need to put it in quotes -- either single or double quotes are fine; Python doesn't care which you use, so long as you use the same type at the start and end of the text.\n",
    "\n",
    "Text in a programming language is known as a \"string.\" Strings in Python use either `''` or `\"\"` on the outside."
   ]
  },
  {
   "cell_type": "code",
   "execution_count": 8,
   "metadata": {},
   "outputs": [
    {
     "name": "stdout",
     "output_type": "stream",
     "text": [
      "8\n"
     ]
    }
   ],
   "source": [
    "print(5 + 3)"
   ]
  },
  {
   "cell_type": "code",
   "execution_count": 9,
   "metadata": {},
   "outputs": [
    {
     "name": "stdout",
     "output_type": "stream",
     "text": [
      "53\n"
     ]
    }
   ],
   "source": [
    "print('5' + '3')   # now I want to add together two text strings... will this work?"
   ]
  },
  {
   "cell_type": "markdown",
   "metadata": {},
   "source": [
    "When you add two strings together, you get a new string, the combination of the two. This is great, *except* if you have only \n",
    "digits in your string, when it can be confusing."
   ]
  },
  {
   "cell_type": "code",
   "execution_count": 11,
   "metadata": {},
   "outputs": [
    {
     "name": "stdout",
     "output_type": "stream",
     "text": [
      "Hello, world\n"
     ]
    }
   ],
   "source": [
    "# we can always join two strings with +\n",
    "# notice that I have a space after the comma in the first string\n",
    "\n",
    "print('Hello, ' + 'world')"
   ]
  },
  {
   "cell_type": "code",
   "execution_count": 12,
   "metadata": {},
   "outputs": [
    {
     "name": "stdout",
     "output_type": "stream",
     "text": [
      "Hello,world\n"
     ]
    }
   ],
   "source": [
    "# remove the space...\n",
    "print('Hello,' + 'world')"
   ]
  },
  {
   "cell_type": "markdown",
   "metadata": {},
   "source": [
    "Computers do what you tell them to do, not what you want them to do!"
   ]
  },
  {
   "cell_type": "code",
   "execution_count": 13,
   "metadata": {},
   "outputs": [
    {
     "name": "stdout",
     "output_type": "stream",
     "text": [
      "Hello, world!\n"
     ]
    }
   ],
   "source": [
    "print('Hello, ' + 'world' + '!')"
   ]
  },
  {
   "cell_type": "markdown",
   "metadata": {},
   "source": [
    "# Variables\n",
    "\n",
    "If we're going to use a value many times in a program, then we should store it in a *variable* and then use it multiple times.\n",
    "\n",
    "If you think of data as *nouns*, and functions (like `print`) as *verbs*, then variables are *pronouns*, referring to data.\n",
    "\n",
    "A variable is just a reference to some data that you can refer to. You can then use the variable instead of the data itself.\n"
   ]
  },
  {
   "cell_type": "code",
   "execution_count": 14,
   "metadata": {},
   "outputs": [
    {
     "name": "stdout",
     "output_type": "stream",
     "text": [
      "Hello, Reuven\n"
     ]
    }
   ],
   "source": [
    "print('Hello, ' + 'Reuven')"
   ]
  },
  {
   "cell_type": "code",
   "execution_count": 17,
   "metadata": {},
   "outputs": [
    {
     "name": "stdout",
     "output_type": "stream",
     "text": [
      "Hello, Reuven\n"
     ]
    }
   ],
   "source": [
    "name = 'Reuven'           # here, I'm assigning the value 'Reuven' to the variable name\n",
    "print('Hello, ' + name)   # here, I'm using name instead of the value 'Reuven', and it still works"
   ]
  },
  {
   "cell_type": "markdown",
   "metadata": {},
   "source": [
    "# Variables and assignment\n",
    "\n",
    "If you want to assign a value to a variable in Python, you use `=`, the \"assignment operator.\"\n",
    "\n",
    "**THIS IS NOT THE SAME IDEA AS `=` IN MATH!**\n",
    "\n",
    "Assignment always works from right to left:\n",
    "- The value on the right is computed\n",
    "- Whatever we got on the right is assigned to the variable on the left\n",
    "\n",
    "Variables **NEVER** have quotes around their names. That's how Python distinguishes a variable from a string.\n",
    "\n",
    "What can we call our variables? Almost anything we want:\n",
    "\n",
    "- Variable names can contain letters, digits, and `_`\n",
    "- Capital and lowercase letters are completely different. So the variable `x` and the variable `X` have nothing to do with one another, from Python's perspective.\n",
    "- You cannot start a variable with a digit.\n",
    "- You *should* not start or end a variable name with an `_`\n",
    "- We normally just use lowercase letters, not capitals, in Python\n",
    "- The variable name is completely irrelevant to Python; use something that makes sense to you, and which makes the program easier to understand.\n"
   ]
  },
  {
   "cell_type": "code",
   "execution_count": 18,
   "metadata": {},
   "outputs": [
    {
     "name": "stdout",
     "output_type": "stream",
     "text": [
      "30\n"
     ]
    }
   ],
   "source": [
    "x = 10\n",
    "y = 20\n",
    "\n",
    "print(x + y)"
   ]
  },
  {
   "cell_type": "code",
   "execution_count": 21,
   "metadata": {},
   "outputs": [
    {
     "name": "stdout",
     "output_type": "stream",
     "text": [
      "Hello, Reuven\n"
     ]
    }
   ],
   "source": [
    "x = 'Hello, '\n",
    "y = 'Reuven'\n",
    "\n",
    "print(x + y)"
   ]
  },
  {
   "cell_type": "code",
   "execution_count": 22,
   "metadata": {},
   "outputs": [
    {
     "ename": "TypeError",
     "evalue": "unsupported operand type(s) for +: 'int' and 'str'",
     "output_type": "error",
     "traceback": [
      "\u001b[0;31m---------------------------------------------------------------------------\u001b[0m",
      "\u001b[0;31mTypeError\u001b[0m                                 Traceback (most recent call last)",
      "Cell \u001b[0;32mIn[22], line 10\u001b[0m\n\u001b[1;32m      3\u001b[0m y \u001b[38;5;241m=\u001b[39m \u001b[38;5;124m'\u001b[39m\u001b[38;5;124m20\u001b[39m\u001b[38;5;124m'\u001b[39m   \u001b[38;5;66;03m# this is a string, not an integer!\u001b[39;00m\n\u001b[1;32m      5\u001b[0m \u001b[38;5;66;03m# Python here has three choices:\u001b[39;00m\n\u001b[1;32m      6\u001b[0m \u001b[38;5;66;03m# 1. Treat x like a string, and give us '1020'\u001b[39;00m\n\u001b[1;32m      7\u001b[0m \u001b[38;5;66;03m# 2. Treat y like an integer, and give us 30\u001b[39;00m\n\u001b[1;32m      8\u001b[0m \u001b[38;5;66;03m# 3. Panic!\u001b[39;00m\n\u001b[0;32m---> 10\u001b[0m \u001b[38;5;28mprint\u001b[39m(\u001b[43mx\u001b[49m\u001b[43m \u001b[49m\u001b[38;5;241;43m+\u001b[39;49m\u001b[43m \u001b[49m\u001b[43my\u001b[49m)\n",
      "\u001b[0;31mTypeError\u001b[0m: unsupported operand type(s) for +: 'int' and 'str'"
     ]
    }
   ],
   "source": [
    "# what happens if I try to mix things up a bit?\n",
    "x = 10\n",
    "y = '20'   # this is a string, not an integer!\n",
    "\n",
    "# Python here has three choices:\n",
    "# 1. Treat x like a string, and give us '1020'\n",
    "# 2. Treat y like an integer, and give us 30\n",
    "# 3. Panic!\n",
    "\n",
    "print(x + y)"
   ]
  },
  {
   "cell_type": "markdown",
   "metadata": {},
   "source": [
    "A lot of programming is:\n",
    "\n",
    "- Assigning values to variables (from user input, from files, from the Internet, from databases)\n",
    "- Doing some calculation/modification\n",
    "- Printing a result with some variables' values"
   ]
  },
  {
   "cell_type": "markdown",
   "metadata": {},
   "source": [
    "# Exercise:\n",
    "1. Define `x` and `y` to be integers. Assign the result of adding them together to a third variable, `result`. Use `print` to display `result`. (Don't try to mix strings and integers together in the same output just yet!)\n",
    "2. Assign your name to the variable `name`. Print a nice greeting to yourself, using the variable.\n",
    "\n",
    "I'm setting up the \"pulse check\":\n",
    "- If you finish, click on the thumbs up\n",
    "- If you cannot get it / are confused / don't know -- then click on the thumbs down *and* tell me what is the problem in the Q&A"
   ]
  },
  {
   "cell_type": "code",
   "execution_count": 23,
   "metadata": {},
   "outputs": [
    {
     "name": "stdout",
     "output_type": "stream",
     "text": [
      "579\n"
     ]
    }
   ],
   "source": [
    "# first question\n",
    "\n",
    "x = 123     # these are integers, just digits without quotes around them\n",
    "y = 456\n",
    "\n",
    "result = x + y\n",
    "\n",
    "print(result)"
   ]
  },
  {
   "cell_type": "code",
   "execution_count": 25,
   "metadata": {},
   "outputs": [
    {
     "name": "stdout",
     "output_type": "stream",
     "text": [
      "579\n"
     ]
    }
   ],
   "source": [
    "# AO did this:\n",
    "\n",
    "result = x + y\n",
    "print(result)"
   ]
  },
  {
   "cell_type": "code",
   "execution_count": 27,
   "metadata": {},
   "outputs": [
    {
     "name": "stdout",
     "output_type": "stream",
     "text": [
      "Greetings, Reuven.\n"
     ]
    }
   ],
   "source": [
    "# second question\n",
    "\n",
    "name = 'Reuven'\n",
    "result = 'Greetings, ' + name + '.'\n",
    "print(result)"
   ]
  },
  {
   "cell_type": "code",
   "execution_count": 28,
   "metadata": {},
   "outputs": [
    {
     "name": "stdout",
     "output_type": "stream",
     "text": [
      "30\n"
     ]
    }
   ],
   "source": [
    "# JH noticed that the spaces before and after = are optional\n",
    "\n",
    "x = 10\n",
    "y = 20\n",
    "print(x+y)"
   ]
  },
  {
   "cell_type": "code",
   "execution_count": 29,
   "metadata": {},
   "outputs": [
    {
     "name": "stdout",
     "output_type": "stream",
     "text": [
      "30\n"
     ]
    }
   ],
   "source": [
    "x=10\n",
    "y=20\n",
    "print(x+y)"
   ]
  },
  {
   "cell_type": "markdown",
   "metadata": {},
   "source": [
    "The only difference between `''` and `\"\"` in Python is that `\"\"` use twice as much electricity."
   ]
  },
  {
   "cell_type": "code",
   "execution_count": 30,
   "metadata": {},
   "outputs": [
    {
     "name": "stdout",
     "output_type": "stream",
     "text": [
      "3\n"
     ]
    }
   ],
   "source": [
    "# assignment removes any previous value that a variable had\n",
    "\n",
    "x = 10\n",
    "x = 7\n",
    "x = 3\n",
    "\n",
    "print(x)"
   ]
  },
  {
   "cell_type": "markdown",
   "metadata": {},
   "source": [
    "# Next up\n",
    "\n",
    "- Getting input from the user\n",
    "- Using f-strings\n",
    "- Handling numbers vs. text"
   ]
  },
  {
   "cell_type": "code",
   "execution_count": 31,
   "metadata": {},
   "outputs": [
    {
     "ename": "TypeError",
     "evalue": "can only concatenate str (not \"int\") to str",
     "output_type": "error",
     "traceback": [
      "\u001b[0;31m---------------------------------------------------------------------------\u001b[0m",
      "\u001b[0;31mTypeError\u001b[0m                                 Traceback (most recent call last)",
      "Cell \u001b[0;32mIn[31], line 6\u001b[0m\n\u001b[1;32m      3\u001b[0m name \u001b[38;5;241m=\u001b[39m \u001b[38;5;124m'\u001b[39m\u001b[38;5;124mReuven\u001b[39m\u001b[38;5;124m'\u001b[39m\n\u001b[1;32m      4\u001b[0m result \u001b[38;5;241m=\u001b[39m x \u001b[38;5;241m+\u001b[39m y\n\u001b[0;32m----> 6\u001b[0m \u001b[38;5;28mprint\u001b[39m(\u001b[38;5;124;43m'\u001b[39;49m\u001b[38;5;124;43mGood morning \u001b[39;49m\u001b[38;5;124;43m'\u001b[39;49m\u001b[43m \u001b[49m\u001b[38;5;241;43m+\u001b[39;49m\u001b[43m \u001b[49m\u001b[43mname\u001b[49m\u001b[43m \u001b[49m\u001b[38;5;241;43m+\u001b[39;49m\u001b[38;5;124;43m'\u001b[39;49m\u001b[38;5;124;43mYou have added these two numbers: \u001b[39;49m\u001b[38;5;124;43m'\u001b[39;49m\u001b[43m \u001b[49m\u001b[38;5;241;43m+\u001b[39;49m\u001b[43m \u001b[49m\u001b[43mresult\u001b[49m )\n",
      "\u001b[0;31mTypeError\u001b[0m: can only concatenate str (not \"int\") to str"
     ]
    }
   ],
   "source": [
    "# AO\n",
    "\n",
    "name = 'Reuven'\n",
    "result = x + y\n",
    "\n",
    "print('Good morning ' + name + 'You have added these two numbers: ' + result )"
   ]
  },
  {
   "cell_type": "code",
   "execution_count": 32,
   "metadata": {},
   "outputs": [
    {
     "name": "stdout",
     "output_type": "stream",
     "text": [
      "Good morning, Reuven\n"
     ]
    }
   ],
   "source": [
    "print('Good morning, ' + name)"
   ]
  },
  {
   "cell_type": "code",
   "execution_count": 33,
   "metadata": {},
   "outputs": [
    {
     "name": "stdout",
     "output_type": "stream",
     "text": [
      "23\n"
     ]
    }
   ],
   "source": [
    "print(result)"
   ]
  },
  {
   "cell_type": "markdown",
   "metadata": {},
   "source": [
    "# f-strings\n",
    "\n",
    "We have encountered two problems so far with strings:\n",
    "\n",
    "- If we have a value that we want to stick inside of a string, we can't; instead, we use `+` along with the value and a string\n",
    "- If we have a non-textual value (i.e., an integer), and we want to display it along with a string, then we can't do that easily. This is because integers aren't strings, and we cannot use `+` with them.\n",
    "\n",
    "We can turn any value we want into a string by invoking `str` on it. That is: If I say `str(5)`, I get back `'5'` (a string) rather than `5` (an integer)."
   ]
  },
  {
   "cell_type": "code",
   "execution_count": 34,
   "metadata": {},
   "outputs": [
    {
     "name": "stdout",
     "output_type": "stream",
     "text": [
      "The value of x is 10, and the value of y is 20.\n"
     ]
    }
   ],
   "source": [
    "# unfortunately, this works\n",
    "# no one wants to write code that looks like this!\n",
    "\n",
    "x = 10\n",
    "y = 20\n",
    "\n",
    "print('The value of x is ' + str(x) + ', and the value of y is ' + str(y) + '.')"
   ]
  },
  {
   "cell_type": "code",
   "execution_count": 35,
   "metadata": {},
   "outputs": [
    {
     "name": "stdout",
     "output_type": "stream",
     "text": [
      "The value of x is 10, and the value of y is 20\n"
     ]
    }
   ],
   "source": [
    "# better is to use an f-string\n",
    "# an f-string is a string that has an f before the opening quote\n",
    "# inside of an f-string, we can put {}, containing any Python expression (a value, a variable, or an operation on a value/variable)\n",
    "# if the value is not a string, it is turned into a string!\n",
    "\n",
    "# I can now rewrite the above code as:\n",
    "x = 10\n",
    "y = 20\n",
    "\n",
    "print(f'The value of x is {x}, and the value of y is {y}')"
   ]
  },
  {
   "cell_type": "code",
   "execution_count": 36,
   "metadata": {},
   "outputs": [
    {
     "name": "stdout",
     "output_type": "stream",
     "text": [
      "The value of 10 + 20 = 30\n"
     ]
    }
   ],
   "source": [
    "print(f'The value of {x} + {y} = {x+y}')"
   ]
  },
  {
   "cell_type": "code",
   "execution_count": 37,
   "metadata": {},
   "outputs": [
    {
     "name": "stdout",
     "output_type": "stream",
     "text": [
      "How are you doing today, Reuven?\n"
     ]
    }
   ],
   "source": [
    "name = 'Reuven'\n",
    "\n",
    "print(f'How are you doing today, {name}?')"
   ]
  },
  {
   "cell_type": "markdown",
   "metadata": {},
   "source": [
    "I can now write a program in which I define values in advance, assign them to variables, and display them. Normally, a program will want to get some sort of input from the user.\n",
    "\n",
    "Python provides us with the `input` function, which pauses the program, asks the user to enter a value, and then returns that value. Typically, we'll then assign the value we got from `input` to a variable.\n",
    "\n",
    "In other words, we'll use it like this:\n",
    "\n"
   ]
  },
  {
   "cell_type": "code",
   "execution_count": 39,
   "metadata": {},
   "outputs": [
    {
     "name": "stdin",
     "output_type": "stream",
     "text": [
      "Enter your name:  Reuven\n"
     ]
    }
   ],
   "source": [
    "# in assignment, the right side runs before the left side\n",
    "# here, input will run, wait for the user to enter something, and whatever\n",
    "# the user entered will be assigned (as a text string) to the variable name\n",
    "\n",
    "name = input('Enter your name: ')"
   ]
  },
  {
   "cell_type": "code",
   "execution_count": 40,
   "metadata": {},
   "outputs": [
    {
     "name": "stdout",
     "output_type": "stream",
     "text": [
      "Reuven\n"
     ]
    }
   ],
   "source": [
    "print(name)"
   ]
  },
  {
   "cell_type": "code",
   "execution_count": 41,
   "metadata": {},
   "outputs": [
    {
     "name": "stdout",
     "output_type": "stream",
     "text": [
      "Hello, Reuven.\n"
     ]
    }
   ],
   "source": [
    "print(f'Hello, {name}.')"
   ]
  },
  {
   "cell_type": "markdown",
   "metadata": {},
   "source": [
    "# Exercise: Greeting\n",
    "\n",
    "1. Ask the user to enter their name, and assign to the variable `name`.\n",
    "2. Ask the user to enter their city, and assign to the variable `city`.\n",
    "3. Print a nice greeting that includes the user's name and city."
   ]
  },
  {
   "cell_type": "code",
   "execution_count": 43,
   "metadata": {},
   "outputs": [
    {
     "name": "stdin",
     "output_type": "stream",
     "text": [
      "Enter your name:  asdfasfsafsdafsafsa\n",
      "Enter your city:  ljlpjalsdfdaslfjsafl;kj\n"
     ]
    },
    {
     "name": "stdout",
     "output_type": "stream",
     "text": [
      "Hello, asdfasfsafsdafsafsa from ljlpjalsdfdaslfjsafl;kj!\n"
     ]
    }
   ],
   "source": [
    "name = input('Enter your name: ')\n",
    "city = input('Enter your city: ')\n",
    "\n",
    "print(f'Hello, {name} from {city}!')"
   ]
  },
  {
   "cell_type": "code",
   "execution_count": 44,
   "metadata": {},
   "outputs": [],
   "source": [
    "# RS got this:\n",
    "\n",
    "# <PyodideFuture finished result='Robert Myles Sheppard'> from <PyodideFuture finished result='London'>\n",
    "\n"
   ]
  },
  {
   "cell_type": "markdown",
   "metadata": {},
   "source": [
    "Some versions of Jupyter (known as \"JupyterLite\") work great... except for `input`. \n",
    "\n",
    "The solution? Don't use JupyterLite."
   ]
  },
  {
   "cell_type": "markdown",
   "metadata": {},
   "source": [
    "# Comparisons\n",
    "\n",
    "If we have two values, we can find out if they are the same by using `==` to compare them.\n",
    "\n",
    "**NOTE: This is `==`, which compares values -- not `=`, which assigns values**\n",
    "\n",
    "When we use `==` to compare two values, we'll get back one of two values from Python:\n",
    "- `True`\n",
    "- `False`\n"
   ]
  },
  {
   "cell_type": "code",
   "execution_count": 46,
   "metadata": {},
   "outputs": [
    {
     "data": {
      "text/plain": [
       "True"
      ]
     },
     "execution_count": 46,
     "metadata": {},
     "output_type": "execute_result"
    }
   ],
   "source": [
    "# only in Jupyter, and *ONLY* in Jupyter, if the final line of a cell gives us a value,\n",
    "# then we don't need to use print to see it.  \n",
    "\n",
    "5 == 5    "
   ]
  },
  {
   "cell_type": "code",
   "execution_count": 47,
   "metadata": {},
   "outputs": [
    {
     "data": {
      "text/plain": [
       "True"
      ]
     },
     "execution_count": 47,
     "metadata": {},
     "output_type": "execute_result"
    }
   ],
   "source": [
    "10 == 10"
   ]
  },
  {
   "cell_type": "code",
   "execution_count": 48,
   "metadata": {},
   "outputs": [
    {
     "data": {
      "text/plain": [
       "False"
      ]
     },
     "execution_count": 48,
     "metadata": {},
     "output_type": "execute_result"
    }
   ],
   "source": [
    "5 == 10"
   ]
  },
  {
   "cell_type": "code",
   "execution_count": 49,
   "metadata": {},
   "outputs": [
    {
     "data": {
      "text/plain": [
       "True"
      ]
     },
     "execution_count": 49,
     "metadata": {},
     "output_type": "execute_result"
    }
   ],
   "source": [
    "x = 10\n",
    "y = 20\n",
    "\n",
    "x == x  "
   ]
  },
  {
   "cell_type": "code",
   "execution_count": 50,
   "metadata": {},
   "outputs": [
    {
     "data": {
      "text/plain": [
       "False"
      ]
     },
     "execution_count": 50,
     "metadata": {},
     "output_type": "execute_result"
    }
   ],
   "source": [
    "x == y"
   ]
  },
  {
   "cell_type": "markdown",
   "metadata": {},
   "source": [
    "# Comparison operators\n",
    "\n",
    "- `==` -- equality; returns `True` if they are the same value\n",
    "- `!=` -- inequality; opposite of `==`\n",
    "- `>` -- greater than; returns `True` if the left value is bigger than the right value\n",
    "- `>=` -- greater than or equal; returns `True` if the left value is bigger than the right value or equal to it\n",
    "- `<` -- less than; returns `True` if the left value is smaller than the right value\n",
    "- `<=` -- less than or equal; returns `True` if the left value is smaller than the right value or equal to it\n",
    "\n",
    "These operators work on numbers, but they also work on strings! \n",
    "\n",
    "- If two strings are identical, then `==` will return `True`.\n",
    "- We can also use `<` and `>` to compare strings; we'll find out which comes first alphabetically"
   ]
  },
  {
   "cell_type": "code",
   "execution_count": 52,
   "metadata": {},
   "outputs": [
    {
     "data": {
      "text/plain": [
       "True"
      ]
     },
     "execution_count": 52,
     "metadata": {},
     "output_type": "execute_result"
    }
   ],
   "source": [
    "# chicken comes before egg, alphabetically\n",
    "\n",
    "'chicken' < 'egg'"
   ]
  },
  {
   "cell_type": "markdown",
   "metadata": {},
   "source": [
    "# Conditional execution\n",
    "\n",
    "So far, when we have written code, *everything* was executed, from start to finish. That's not always what we want. We often want to say that code should only execute under certain conditions.\n",
    "\n",
    "We can do that with the `if` statement."
   ]
  },
  {
   "cell_type": "code",
   "execution_count": 55,
   "metadata": {},
   "outputs": [
    {
     "name": "stdin",
     "output_type": "stream",
     "text": [
      "Enter your name:  Reuven\n"
     ]
    },
    {
     "name": "stdout",
     "output_type": "stream",
     "text": [
      "Hello, boss!\n",
      "It is great to see you again!\n"
     ]
    }
   ],
   "source": [
    "name = input('Enter your name: ')\n",
    "\n",
    "if name == 'Reuven':\n",
    "    print('Hello, boss!')\n",
    "    print('It is great to see you again!')\n",
    "else:\n",
    "    print(f'Hello, {name}. Nice to meet you.')\n",
    "\n",
    "print('Done!')"
   ]
  },
  {
   "cell_type": "markdown",
   "metadata": {},
   "source": [
    "# Reviewing the above code\n",
    "\n",
    "1. We get the user's name with `input` and assign to `name`.\n",
    "2. `if` looks to its right, and wants to get either a `True` or a `False` value.\n",
    "    - Fortunately, to its right is the comparison `name == 'Reuven'`\n",
    "    - If the comparison returns `True`, then the block following `if` executes\n",
    "3. A \"block\" in Python means that we have indented code that runs under certain conditions\n",
    "    - Before the block, at the end of the line, is a `:`\n",
    "    - The indentation is *mandatory*. Traditionally, we use 4 spaces, but your editor/Jupyter should do that for you automatically\n",
    "    - There is no `{}` or `begin`/`end` to mark the start or end of a block; your eyes show you where it starts and ends, and you can use spaces + backspace to add or remove indentation\n",
    "4. The block following the `if` can be as many (or as few) lines as you want. That code will only run if the `if` condition is `True`.\n",
    "5. Optionally, you can have an `else` clause\n",
    "    - Once again, the line ends with `:`\n",
    "    - Once again, the block for `else` is indented\n",
    "    - This code only runs if the condition for `if` was `False`\n",
    "\n",
    "Note that either the `if` block or the `else` block runs. One is guaranteed to run -- not zero, and not two.\n",
    "\n",
    "We use conditions *EVERYWHERE* in programming:\n",
    "- What cursor should be displayed?\n",
    "- What color should the number be shown?\n",
    "- Does the user have permission to access this file?\n",
    "\n",
    "Programming is 90% writing conditions and the things that happen when they are met/unmet."
   ]
  },
  {
   "cell_type": "markdown",
   "metadata": {},
   "source": [
    "# Exercise: Nice/snarky greeting\n",
    "\n",
    "1. Ask the user to enter their name, and store in a variable.\n",
    "2. If the name is yours, print a nice greeting.\n",
    "3. If the name is not yours, print a snarky greeting."
   ]
  },
  {
   "cell_type": "code",
   "execution_count": 57,
   "metadata": {},
   "outputs": [
    {
     "name": "stdin",
     "output_type": "stream",
     "text": [
      "Enter your name:  someone else\n"
     ]
    },
    {
     "name": "stdout",
     "output_type": "stream",
     "text": [
      "Who are you, someone else? Why are you here?\n"
     ]
    }
   ],
   "source": [
    "name = input('Enter your name: ')\n",
    "\n",
    "if name == 'Reuven':\n",
    "    print('Hi, best person in the entire universe!')\n",
    "else:\n",
    "    print(f'Who are you, {name}? Why are you here?')"
   ]
  },
  {
   "cell_type": "markdown",
   "metadata": {},
   "source": [
    "# Exercise: Which word comes first?\n",
    "\n",
    "1. Ask the user to enter two words, using `input` twice and two separate variables. (Maybe call them `first` and `second`.) Ask the user in each case to enter a word, all lowercase.\n",
    "2. Let's assume (for now) that the words are different.\n",
    "3. Tell the user which word comes first alphabetically. Remember that you can use `<` and `>` on strings to find that out."
   ]
  },
  {
   "cell_type": "code",
   "execution_count": 59,
   "metadata": {},
   "outputs": [
    {
     "name": "stdin",
     "output_type": "stream",
     "text": [
      "Enter first word:  taxi\n",
      "Enter second word:  cab\n"
     ]
    },
    {
     "name": "stdout",
     "output_type": "stream",
     "text": [
      "cab comes before taxi\n"
     ]
    }
   ],
   "source": [
    "first = input('Enter first word: ')\n",
    "second = input('Enter second word: ')\n",
    "\n",
    "if first < second:\n",
    "    print(f'{first} comes before {second}')\n",
    "else:\n",
    "    print(f'{second} comes before {first}')\n",
    "    "
   ]
  },
  {
   "cell_type": "code",
   "execution_count": 61,
   "metadata": {},
   "outputs": [
    {
     "name": "stdin",
     "output_type": "stream",
     "text": [
      "Enter your first word in lowercase:  abc\n",
      "Enter your second word in lowercase:  def\n"
     ]
    },
    {
     "name": "stdout",
     "output_type": "stream",
     "text": [
      "This word abc come first alphabetically than def\n"
     ]
    }
   ],
   "source": [
    "# AO \n",
    "\n",
    "first = input('Enter your first word in lowercase: ')\n",
    "second = input('Enter your second word in lowercase: ')\n",
    "if first < second:\n",
    "  print(f'This word {first} come first alphabetically than {second}')\n",
    "else:\n",
    "  print(f'{second} comes alphabetically after {first}') "
   ]
  },
  {
   "cell_type": "code",
   "execution_count": 62,
   "metadata": {},
   "outputs": [
    {
     "name": "stdin",
     "output_type": "stream",
     "text": [
      "Enter your first name: chicken\n",
      "Enter your last name: egg\n"
     ]
    },
    {
     "name": "stdout",
     "output_type": "stream",
     "text": [
      "chicken, comes first in the alphabet!\n"
     ]
    }
   ],
   "source": [
    "# VR\n",
    "\n",
    "firstname = input ('Enter your first name:')\n",
    "lastname = input ('Enter your last name:')\n",
    "if firstname < lastname:\n",
    "  print(f'{firstname}, comes first in the alphabet!')\n",
    "else:\n",
    "  print(f'{lastname}, comes first in the alphabet!')\n",
    "\n"
   ]
  },
  {
   "cell_type": "markdown",
   "metadata": {},
   "source": [
    "# Next up\n",
    "\n",
    "1. More complex conditions (`elif` and `and`/`or`/`not`)\n",
    "2. Data structures, starting with numbers (int and float)"
   ]
  },
  {
   "cell_type": "markdown",
   "metadata": {},
   "source": [
    "# What if we have more than two options?\n",
    "\n",
    "With `if` and `else`, we can handle two different possibilities. What if there are more?\n",
    "\n",
    "We can use `elif`, which is short for \"else if\", and it works like another `if` but is only checked if the `if` statement was `False`. You can have as many `elif` statements as you want, after the `if` and before (the optional) `else` clause.\n",
    "\n",
    "The first one whose condition is `True` then fires.\n",
    "\n",
    "Remember that `if` and `elif` statements need a condition, but `else` means, \"None of the above worked,\" and so it doesn't have a condition. All of them need have `:` at the end of the line, before the indented block."
   ]
  },
  {
   "cell_type": "code",
   "execution_count": 65,
   "metadata": {},
   "outputs": [
    {
     "name": "stdin",
     "output_type": "stream",
     "text": [
      "Enter your name:  whatever\n"
     ]
    },
    {
     "name": "stdout",
     "output_type": "stream",
     "text": [
      "Hello, whatever.\n"
     ]
    }
   ],
   "source": [
    "name = input('Enter your name: ')\n",
    "\n",
    "if name == 'Reuven':\n",
    "    print('Hi, boss!')\n",
    "elif name == 'someone else':\n",
    "    print('That is not a real name!')\n",
    "else:\n",
    "    print(f'Hello, {name}.')\n",
    "\n",
    "\n",
    "# one, and only one, of these blocks will execute."
   ]
  },
  {
   "cell_type": "markdown",
   "metadata": {},
   "source": [
    "# Combine conditions with `and` and `or`\n",
    "\n",
    "We've seen that conditions return `True` or `False`. If we want, we can combine two conditions together with `and` or `or`:\n",
    "\n",
    "- `and` returns `True` if both conditions (on either side) are `True`, otherwise `False`\n",
    "- `or` returns `True` if one or both conditions (on either side) are `True`, otherwise `False`"
   ]
  },
  {
   "cell_type": "code",
   "execution_count": 66,
   "metadata": {},
   "outputs": [
    {
     "name": "stdout",
     "output_type": "stream",
     "text": [
      "Both are what you want\n"
     ]
    }
   ],
   "source": [
    "x = 10\n",
    "y = 20\n",
    "\n",
    "#    True  and  True -- > True\n",
    "if x == 10 and y == 20:\n",
    "    print('Both are what you want')\n",
    "    "
   ]
  },
  {
   "cell_type": "code",
   "execution_count": 67,
   "metadata": {},
   "outputs": [],
   "source": [
    "x = 10\n",
    "y = 20\n",
    "\n",
    "#    True  and  False -- > False\n",
    "if x == 10 and y == 25:\n",
    "    print('Both are what you want')\n",
    "    "
   ]
  },
  {
   "cell_type": "code",
   "execution_count": 69,
   "metadata": {},
   "outputs": [
    {
     "name": "stdout",
     "output_type": "stream",
     "text": [
      "At least one is what you want\n"
     ]
    }
   ],
   "source": [
    "x = 10\n",
    "y = 20\n",
    "\n",
    "#    True  or  False -- > True\n",
    "if x == 10 or y == 25:\n",
    "    print('At least one is what you want')\n",
    "    "
   ]
  },
  {
   "cell_type": "code",
   "execution_count": 70,
   "metadata": {},
   "outputs": [
    {
     "data": {
      "text/plain": [
       "False"
      ]
     },
     "execution_count": 70,
     "metadata": {},
     "output_type": "execute_result"
    }
   ],
   "source": [
    "# we can flip the logic with \"not\"\n",
    "\n",
    "not True"
   ]
  },
  {
   "cell_type": "code",
   "execution_count": 71,
   "metadata": {},
   "outputs": [
    {
     "data": {
      "text/plain": [
       "True"
      ]
     },
     "execution_count": 71,
     "metadata": {},
     "output_type": "execute_result"
    }
   ],
   "source": [
    "not False"
   ]
  },
  {
   "cell_type": "code",
   "execution_count": 74,
   "metadata": {},
   "outputs": [
    {
     "data": {
      "text/plain": [
       "False"
      ]
     },
     "execution_count": 74,
     "metadata": {},
     "output_type": "execute_result"
    }
   ],
   "source": [
    "not x == 10  # don't do this; just use x != 10"
   ]
  },
  {
   "cell_type": "markdown",
   "metadata": {},
   "source": [
    "# Exercise: Which word comes first?\n",
    "\n",
    "Redo the previous exercise *but* handle the possibility that the user entered the same word twice."
   ]
  },
  {
   "cell_type": "code",
   "execution_count": 78,
   "metadata": {},
   "outputs": [
    {
     "name": "stdin",
     "output_type": "stream",
     "text": [
      "Enter first word:  horse\n",
      "Enter second word:  horse\n"
     ]
    },
    {
     "name": "stdout",
     "output_type": "stream",
     "text": [
      "You entered horse twice!\n"
     ]
    }
   ],
   "source": [
    "first = input('Enter first word: ')\n",
    "second = input('Enter second word: ')\n",
    "\n",
    "if first < second:\n",
    "    print(f'{first} comes before {second}')\n",
    "elif second < first: \n",
    "    print(f'{second} comes before {first}')\n",
    "else:\n",
    "    print(f'You entered {first} twice!')"
   ]
  },
  {
   "cell_type": "code",
   "execution_count": 82,
   "metadata": {},
   "outputs": [
    {
     "name": "stdin",
     "output_type": "stream",
     "text": [
      "Enter your first word in lowercase:  cart\n",
      "Enter your second word in lowercase:  horse\n"
     ]
    },
    {
     "name": "stdout",
     "output_type": "stream",
     "text": [
      "This word cart come first alphabetically than horse\n"
     ]
    }
   ],
   "source": [
    "# AO\n",
    "\n",
    "first = input('Enter your first word in lowercase: ')\n",
    "second = input('Enter your second word in lowercase: ')\n",
    "if first < second:\n",
    "    print(f'This word {first} come first alphabetically than {second}')\n",
    "elif first == second:  \n",
    "    print(f'You have entered the same word twice')\n",
    "else:\n",
    "    print(f'{second} comes alphabetically before {first}') "
   ]
  },
  {
   "cell_type": "code",
   "execution_count": 84,
   "metadata": {},
   "outputs": [
    {
     "name": "stdin",
     "output_type": "stream",
     "text": [
      "enter a number  10\n",
      "enter a 2nd number  25\n"
     ]
    },
    {
     "name": "stdout",
     "output_type": "stream",
     "text": [
      "True\n"
     ]
    }
   ],
   "source": [
    "# JS\n",
    "\n",
    "x = input('enter a number ')\n",
    "y = input('enter a 2nd number ')\n",
    "\n",
    "# x and y are both strings!\n",
    "# even if you enter '10' and '25', \n",
    "# the integer 10 isn't equal to the string '10'\n",
    "# the integer 25 isn't equal to the string '25'\n",
    "\n",
    "if x == '10' or y == '25':\n",
    "    print('True')\n",
    "else:\n",
    "    print('False')"
   ]
  },
  {
   "cell_type": "markdown",
   "metadata": {},
   "source": [
    "# Numbers\n",
    "\n",
    "Python supports two different types of numbers:\n",
    "\n",
    "- Integers (whole numbers, only containing digits 0-9)\n",
    "- Floats (numbers with a decimal point)\n",
    "\n",
    "We're mostly going to talk about integers. But floats do exist!"
   ]
  },
  {
   "cell_type": "code",
   "execution_count": 85,
   "metadata": {},
   "outputs": [],
   "source": [
    "x = 10\n",
    "y = 3\n",
    "\n",
    "# we can perform a whole lot of operations on these numbers"
   ]
  },
  {
   "cell_type": "code",
   "execution_count": 86,
   "metadata": {},
   "outputs": [
    {
     "data": {
      "text/plain": [
       "13"
      ]
     },
     "execution_count": 86,
     "metadata": {},
     "output_type": "execute_result"
    }
   ],
   "source": [
    "x + y    # addition"
   ]
  },
  {
   "cell_type": "code",
   "execution_count": 87,
   "metadata": {},
   "outputs": [
    {
     "data": {
      "text/plain": [
       "7"
      ]
     },
     "execution_count": 87,
     "metadata": {},
     "output_type": "execute_result"
    }
   ],
   "source": [
    "x - y     # subtraction"
   ]
  },
  {
   "cell_type": "code",
   "execution_count": 88,
   "metadata": {},
   "outputs": [
    {
     "data": {
      "text/plain": [
       "30"
      ]
     },
     "execution_count": 88,
     "metadata": {},
     "output_type": "execute_result"
    }
   ],
   "source": [
    "x * y    # multiplication"
   ]
  },
  {
   "cell_type": "code",
   "execution_count": 89,
   "metadata": {},
   "outputs": [
    {
     "data": {
      "text/plain": [
       "3.3333333333333335"
      ]
     },
     "execution_count": 89,
     "metadata": {},
     "output_type": "execute_result"
    }
   ],
   "source": [
    "x / y    # division -- truediv, always returning a float (with a decimal point)"
   ]
  },
  {
   "cell_type": "code",
   "execution_count": 90,
   "metadata": {},
   "outputs": [
    {
     "data": {
      "text/plain": [
       "3"
      ]
     },
     "execution_count": 90,
     "metadata": {},
     "output_type": "execute_result"
    }
   ],
   "source": [
    "x // y    # divison -- floordiv, always returning an integer, chopping off any fractional part"
   ]
  },
  {
   "cell_type": "code",
   "execution_count": 91,
   "metadata": {},
   "outputs": [
    {
     "data": {
      "text/plain": [
       "1"
      ]
     },
     "execution_count": 91,
     "metadata": {},
     "output_type": "execute_result"
    }
   ],
   "source": [
    "x % y    # modulo -- give me the remainder from integer division"
   ]
  },
  {
   "cell_type": "code",
   "execution_count": 92,
   "metadata": {},
   "outputs": [
    {
     "data": {
      "text/plain": [
       "1000"
      ]
     },
     "execution_count": 92,
     "metadata": {},
     "output_type": "execute_result"
    }
   ],
   "source": [
    "x ** y   # exponentiation -- x to the y power"
   ]
  },
  {
   "cell_type": "code",
   "execution_count": 93,
   "metadata": {},
   "outputs": [
    {
     "data": {
      "text/plain": [
       "11"
      ]
     },
     "execution_count": 93,
     "metadata": {},
     "output_type": "execute_result"
    }
   ],
   "source": [
    "# what if I want to add 1 to x?\n",
    "\n",
    "x = 10\n",
    "x = x + 1    # this is *NOT* a math expression! It means: Take the existing value of x, add 1 to it, and assign the result back to x\n",
    "\n",
    "x"
   ]
  },
  {
   "cell_type": "code",
   "execution_count": 94,
   "metadata": {},
   "outputs": [
    {
     "data": {
      "text/plain": [
       "11"
      ]
     },
     "execution_count": 94,
     "metadata": {},
     "output_type": "execute_result"
    }
   ],
   "source": [
    "# we can use shorthand for this, the += operator\n",
    "\n",
    "x = 10\n",
    "x += 1    # this is the same as saying x = x + 1\n",
    "\n",
    "x"
   ]
  },
  {
   "cell_type": "markdown",
   "metadata": {},
   "source": [
    "# When we get input from the user, it's a string!\n",
    "\n"
   ]
  },
  {
   "cell_type": "code",
   "execution_count": 95,
   "metadata": {},
   "outputs": [
    {
     "name": "stdin",
     "output_type": "stream",
     "text": [
      "Enter first number:  123\n",
      "Enter second number:  456\n"
     ]
    },
    {
     "name": "stdout",
     "output_type": "stream",
     "text": [
      "123 + 456 = 123456\n"
     ]
    }
   ],
   "source": [
    "x = input('Enter first number: ')\n",
    "y = input('Enter second number: ')\n",
    "\n",
    "print(f'{x} + {y} = {x+y}')"
   ]
  },
  {
   "cell_type": "code",
   "execution_count": 96,
   "metadata": {},
   "outputs": [
    {
     "name": "stdin",
     "output_type": "stream",
     "text": [
      "Enter first number:  123\n",
      "Enter second number:  456\n"
     ]
    },
    {
     "name": "stdout",
     "output_type": "stream",
     "text": [
      "123 + 456 = 579\n"
     ]
    }
   ],
   "source": [
    "# we can get an integer based on an existing string by invoking int() on the string\n",
    "# we don't change the original value, but we do get back a new int, which we can assign, pass to a function, etc.\n",
    "\n",
    "x = input('Enter first number: ')\n",
    "y = input('Enter second number: ')\n",
    "\n",
    "x = int(x)  # get an int based on the string x\n",
    "y = int(y)  # get an int based on the string y\n",
    "\n",
    "print(f'{x} + {y} = {x+y}')"
   ]
  },
  {
   "cell_type": "code",
   "execution_count": 97,
   "metadata": {},
   "outputs": [
    {
     "data": {
      "text/plain": [
       "12345"
      ]
     },
     "execution_count": 97,
     "metadata": {},
     "output_type": "execute_result"
    }
   ],
   "source": [
    "int('12345')"
   ]
  },
  {
   "cell_type": "code",
   "execution_count": 98,
   "metadata": {},
   "outputs": [
    {
     "ename": "ValueError",
     "evalue": "invalid literal for int() with base 10: 'hello'",
     "output_type": "error",
     "traceback": [
      "\u001b[0;31m---------------------------------------------------------------------------\u001b[0m",
      "\u001b[0;31mValueError\u001b[0m                                Traceback (most recent call last)",
      "Cell \u001b[0;32mIn[98], line 1\u001b[0m\n\u001b[0;32m----> 1\u001b[0m \u001b[38;5;28;43mint\u001b[39;49m\u001b[43m(\u001b[49m\u001b[38;5;124;43m'\u001b[39;49m\u001b[38;5;124;43mhello\u001b[39;49m\u001b[38;5;124;43m'\u001b[39;49m\u001b[43m)\u001b[49m\n",
      "\u001b[0;31mValueError\u001b[0m: invalid literal for int() with base 10: 'hello'"
     ]
    }
   ],
   "source": [
    "int('hello')"
   ]
  },
  {
   "cell_type": "markdown",
   "metadata": {},
   "source": [
    "# Exercise: Calculator!\n",
    "\n",
    "1. Ask the user to enter three separate inputs, which you'll put into three separate variables:\n",
    "    - `first`, an integer\n",
    "    - `op`, a string that is either `'+'` or `'-'`\n",
    "    - `second`, another integer\n",
    "2. Print the result of either addition or subtraction.\n",
    "3. If the user gives an operator that is neither `+` or `-`, then scold them.\n",
    "\n",
    "Example:\n",
    "\n",
    "    Enter first number: 20\n",
    "    Enter operator: +\n",
    "    Enter second number: 6\n",
    "    20 + 6 = 26\n",
    "\n",
    "    Enter first number: 32\n",
    "    Enter operator: -\n",
    "    Enter second number: 8\n",
    "    32 - 8 = 24\n",
    "\n",
    "    Enter first number: 20\n",
    "    Enter operator: *\n",
    "    Enter second number: 6\n",
    "    20 * 6 = [not supported yet]  \n",
    "\n",
    "Keep in mind:\n",
    "1. You'll need to use `input`\n",
    "2. Use `int` to turn some inputs into integers\n",
    "3. Use `if` / `elif`/ `else` to deal with different operators"
   ]
  },
  {
   "cell_type": "code",
   "execution_count": 102,
   "metadata": {},
   "outputs": [
    {
     "name": "stdin",
     "output_type": "stream",
     "text": [
      "Enter first number:  1234\n",
      "Enter operator:  -\n",
      "Enter second number:  80\n"
     ]
    },
    {
     "name": "stdout",
     "output_type": "stream",
     "text": [
      "1234 - 80 = 1154\n"
     ]
    }
   ],
   "source": [
    "first = input('Enter first number: ')\n",
    "op = input('Enter operator: ')\n",
    "second = input('Enter second number: ')\n",
    "\n",
    "first = int(first)\n",
    "second = int(second)\n",
    "\n",
    "if op == '+':\n",
    "    result = first + second\n",
    "elif op == '-':\n",
    "    result  = first - second\n",
    "else:\n",
    "    result = '[not supported yet]'\n",
    "\n",
    "print(f'{first} {op} {second} = {result}')"
   ]
  },
  {
   "cell_type": "code",
   "execution_count": 106,
   "metadata": {},
   "outputs": [
    {
     "name": "stdin",
     "output_type": "stream",
     "text": [
      "Enter an integer:  234\n",
      "Enter the operator:  *\n",
      "Enter the second number 5\n"
     ]
    },
    {
     "name": "stdout",
     "output_type": "stream",
     "text": [
      "234 * 5 = 1170\n"
     ]
    }
   ],
   "source": [
    "# AO\n",
    "\n",
    "first = input('Enter an integer: ')\n",
    "Operator = input('Enter the operator: ')\n",
    "second = input('Enter the second number')\n",
    "\n",
    "first = int(first)\n",
    "second = int(second)\n",
    "\n",
    "if Operator == '+':\n",
    "  print(f'{first} + {second} = {first+second}')\n",
    "elif Operator == '-':\n",
    "  print(f'{first} - {second} = {first-second}')\n",
    "elif Operator == '*':\n",
    "  print(f'{first} * {second} = {first*second}')\n",
    "else:\n",
    "  print('something is wrong')"
   ]
  },
  {
   "cell_type": "code",
   "execution_count": 107,
   "metadata": {},
   "outputs": [
    {
     "name": "stdin",
     "output_type": "stream",
     "text": [
      "Enter first number:  10\n",
      "Enter operator:  +\n",
      "Enter second number:  3\n"
     ]
    },
    {
     "name": "stdout",
     "output_type": "stream",
     "text": [
      "10 + 3 = 13\n"
     ]
    }
   ],
   "source": [
    "# what about using int + input together, on the same line?\n",
    "\n",
    "# this works 100%, if the user entered only digits 0-9.\n",
    "# if they entered something else, it'll blow up\n",
    "\n",
    "first = int(input('Enter first number: '))\n",
    "op = input('Enter operator: ')\n",
    "second = int(input('Enter second number: '))\n",
    "\n",
    "if op == '+':\n",
    "    result = first + second\n",
    "elif op == '-':\n",
    "    result  = first - second\n",
    "else:\n",
    "    result = '[not supported yet]'\n",
    "\n",
    "print(f'{first} {op} {second} = {result}')"
   ]
  },
  {
   "cell_type": "markdown",
   "metadata": {},
   "source": [
    "# Next up: Strings!\n",
    "\n",
    "- Creating\n",
    "- Retrieving from them\n",
    "- Slices\n",
    "- Searching"
   ]
  },
  {
   "cell_type": "markdown",
   "metadata": {},
   "source": [
    "# Strings\n",
    "\n",
    "Strings are Python's data structure for text. Whether the text is very small or very large, we'll almost certainly use a string to work with it.\n",
    "\n",
    "The smallest string is the \"empty string,\" which we write with two quotes next to one another, `''`. That has zero characters in it. There is no maximum size for a string in Python; if you have memory in your system, then you can create a very large string."
   ]
  },
  {
   "cell_type": "code",
   "execution_count": 108,
   "metadata": {},
   "outputs": [],
   "source": [
    "# create a string with single or double quotes\n",
    "s = 'abcdefghijklmnopqrstuvwxyz'\n",
    "\n",
    "# if you have a quote character in your string, you can either use the other kind of quote on the outside\n",
    "# or you can put a \\ before the quote, thus \"escaping\" it and making it a regular character, not a delimiter"
   ]
  },
  {
   "cell_type": "code",
   "execution_count": 109,
   "metadata": {},
   "outputs": [
    {
     "data": {
      "text/plain": [
       "26"
      ]
     },
     "execution_count": 109,
     "metadata": {},
     "output_type": "execute_result"
    }
   ],
   "source": [
    "# how many characters are in s?\n",
    "# I can use the \"len\" function to get that\n",
    "\n",
    "len(s) "
   ]
  },
  {
   "cell_type": "code",
   "execution_count": 110,
   "metadata": {},
   "outputs": [
    {
     "data": {
      "text/plain": [
       "'a'"
      ]
     },
     "execution_count": 110,
     "metadata": {},
     "output_type": "execute_result"
    }
   ],
   "source": [
    "# what if I want to retrieve a particular character?\n",
    "# for example, I want to get the first character in s\n",
    "\n",
    "# for this, we use [], with the index of the character we want inside\n",
    "# the indexes start at 0\n",
    "\n",
    "s[0]   # first character"
   ]
  },
  {
   "cell_type": "code",
   "execution_count": 111,
   "metadata": {},
   "outputs": [
    {
     "data": {
      "text/plain": [
       "'b'"
      ]
     },
     "execution_count": 111,
     "metadata": {},
     "output_type": "execute_result"
    }
   ],
   "source": [
    "s[1]   # second character"
   ]
  },
  {
   "cell_type": "code",
   "execution_count": 112,
   "metadata": {},
   "outputs": [
    {
     "data": {
      "text/plain": [
       "'b'"
      ]
     },
     "execution_count": 112,
     "metadata": {},
     "output_type": "execute_result"
    }
   ],
   "source": [
    "# I can assign an integer to a variable, and use that\n",
    "\n",
    "i = 1\n",
    "s[i]"
   ]
  },
  {
   "cell_type": "code",
   "execution_count": 113,
   "metadata": {},
   "outputs": [
    {
     "data": {
      "text/plain": [
       "'d'"
      ]
     },
     "execution_count": 113,
     "metadata": {},
     "output_type": "execute_result"
    }
   ],
   "source": [
    "s[i+2]"
   ]
  },
  {
   "cell_type": "markdown",
   "metadata": {},
   "source": [
    "Are you confused by the notion of starting to count at 0? The 4th character is at index 3!\n",
    "\n",
    "This leads to many, *many* errors in programming known as \"off by one errors.\"\n",
    "\n",
    "There are two hard things about programming:\n",
    "1. Naming variables correctly\n",
    "2. Handling caching correctly\n",
    "3. Off-by-one errors"
   ]
  },
  {
   "cell_type": "code",
   "execution_count": 114,
   "metadata": {},
   "outputs": [
    {
     "data": {
      "text/plain": [
       "'z'"
      ]
     },
     "execution_count": 114,
     "metadata": {},
     "output_type": "execute_result"
    }
   ],
   "source": [
    "# how can I get the final character in the string s?\n",
    "# option 1: we know there are 26 characters, meaning indexes 0-25\n",
    "s[25]"
   ]
  },
  {
   "cell_type": "code",
   "execution_count": 115,
   "metadata": {},
   "outputs": [
    {
     "data": {
      "text/plain": [
       "'z'"
      ]
     },
     "execution_count": 115,
     "metadata": {},
     "output_type": "execute_result"
    }
   ],
   "source": [
    "# option 2: calculate it \n",
    "# the final character will always be at the index that's 1 less than the length\n",
    "s[ len(s)-1 ]"
   ]
  },
  {
   "cell_type": "code",
   "execution_count": 116,
   "metadata": {},
   "outputs": [
    {
     "data": {
      "text/plain": [
       "'z'"
      ]
     },
     "execution_count": 116,
     "metadata": {},
     "output_type": "execute_result"
    }
   ],
   "source": [
    "# option 3: use a negative index, which forces Python to start on the right side\n",
    "s[-1]"
   ]
  },
  {
   "cell_type": "code",
   "execution_count": 117,
   "metadata": {},
   "outputs": [
    {
     "data": {
      "text/plain": [
       "'y'"
      ]
     },
     "execution_count": 117,
     "metadata": {},
     "output_type": "execute_result"
    }
   ],
   "source": [
    "s[-2]"
   ]
  },
  {
   "cell_type": "code",
   "execution_count": 118,
   "metadata": {},
   "outputs": [
    {
     "data": {
      "text/plain": [
       "'x'"
      ]
     },
     "execution_count": 118,
     "metadata": {},
     "output_type": "execute_result"
    }
   ],
   "source": [
    "s[-3]"
   ]
  },
  {
   "cell_type": "markdown",
   "metadata": {},
   "source": [
    "# Special characters\n",
    "\n",
    "Sometimes, we want a character in our string that cannot be typed easily.\n",
    "\n",
    "The most famous of these is the newline character, which telle Python to go down one line before continuing to print. We can type that as `\\n`, which we use two characters for, but it's really one character."
   ]
  },
  {
   "cell_type": "code",
   "execution_count": 119,
   "metadata": {},
   "outputs": [
    {
     "data": {
      "text/plain": [
       "9"
      ]
     },
     "execution_count": 119,
     "metadata": {},
     "output_type": "execute_result"
    }
   ],
   "source": [
    "s = 'abcd\\nefgh'\n",
    "\n",
    "len(s)"
   ]
  },
  {
   "cell_type": "code",
   "execution_count": 120,
   "metadata": {},
   "outputs": [
    {
     "data": {
      "text/plain": [
       "'\\n'"
      ]
     },
     "execution_count": 120,
     "metadata": {},
     "output_type": "execute_result"
    }
   ],
   "source": [
    "# what character is at index 4?\n",
    "s[4]"
   ]
  },
  {
   "cell_type": "code",
   "execution_count": 121,
   "metadata": {
    "scrolled": true
   },
   "outputs": [
    {
     "name": "stdout",
     "output_type": "stream",
     "text": [
      "abcd\n",
      "efgh\n"
     ]
    }
   ],
   "source": [
    "print(s)"
   ]
  },
  {
   "cell_type": "code",
   "execution_count": 122,
   "metadata": {},
   "outputs": [],
   "source": [
    "# if we want a literal backslash in our string, we use \\\\"
   ]
  },
  {
   "cell_type": "code",
   "execution_count": 124,
   "metadata": {},
   "outputs": [
    {
     "data": {
      "text/plain": [
       "'a'"
      ]
     },
     "execution_count": 124,
     "metadata": {},
     "output_type": "execute_result"
    }
   ],
   "source": [
    "s[0]"
   ]
  },
  {
   "cell_type": "code",
   "execution_count": 125,
   "metadata": {},
   "outputs": [
    {
     "data": {
      "text/plain": [
       "'a'"
      ]
     },
     "execution_count": 125,
     "metadata": {},
     "output_type": "execute_result"
    }
   ],
   "source": [
    "s[-0]"
   ]
  },
  {
   "cell_type": "markdown",
   "metadata": {},
   "source": [
    "# Exercise: Retrieve a character\n",
    "\n",
    "1. Ask the user to enter a word.\n",
    "2. Ask the user to enter an integer.\n",
    "3. Print the character at the integer's index from the string.\n",
    "    - If the integer is 0 or less, then print an error message.\n",
    "    - If the integer is too high, print an error message.\n",
    "\n",
    "Example:\n",
    "\n",
    "    Enter a word: telephone\n",
    "    Enter an index: 4\n",
    "    index 4 in telephone is p\n",
    "\n",
    "    Enter a word: telephone\n",
    "    Enter an index: 40\n",
    "    index 40 is too big for telephone\n",
    "\n",
    "    "
   ]
  },
  {
   "cell_type": "code",
   "execution_count": 133,
   "metadata": {},
   "outputs": [
    {
     "name": "stdin",
     "output_type": "stream",
     "text": [
      "Enter a word:  book\n",
      "Enter an index:  5\n"
     ]
    },
    {
     "name": "stdout",
     "output_type": "stream",
     "text": [
      "Index 5 is too big for book\n"
     ]
    }
   ],
   "source": [
    "word = input('Enter a word: ')\n",
    "\n",
    "number = input('Enter an index: ')\n",
    "i = int(number)\n",
    "\n",
    "if i < 0:\n",
    "    print(f'Please use an index >= 0')\n",
    "elif i >= len(word):\n",
    "    print(f'Index {i} is too big for {word}')\n",
    "else:\n",
    "    print(f'Index {i} in {word} is {word[i]}')"
   ]
  },
  {
   "cell_type": "code",
   "execution_count": null,
   "metadata": {},
   "outputs": [],
   "source": [
    "# AR\n",
    "\n",
    "userword = input(f'Please enter a word')\n",
    "wordlength = len(userword)\n",
    "\n",
    "usernumber = int(input(f'Please enter an element to retrieve'))\n",
    "\n",
    "if usernumber < 0:\n",
    "    result = (f'{usernumber} can\\'t retrive element for a negative number')\n",
    "elif usernumber > wordlength:\n",
    "    result = (f'{usernumber} element out of bounds')\n",
    "else:\n",
    "    result = userword[usernumber]\n",
    "print(result)"
   ]
  },
  {
   "cell_type": "code",
   "execution_count": 134,
   "metadata": {},
   "outputs": [
    {
     "name": "stdin",
     "output_type": "stream",
     "text": [
      "Enter a word:  book\n",
      "Enter an integer:  4\n"
     ]
    },
    {
     "ename": "NameError",
     "evalue": "name 'number_size' is not defined",
     "output_type": "error",
     "traceback": [
      "\u001b[0;31m---------------------------------------------------------------------------\u001b[0m",
      "\u001b[0;31mNameError\u001b[0m                                 Traceback (most recent call last)",
      "Cell \u001b[0;32mIn[134], line 7\u001b[0m\n\u001b[1;32m      4\u001b[0m number \u001b[38;5;241m=\u001b[39m \u001b[38;5;28mint\u001b[39m(number)\n\u001b[1;32m      6\u001b[0m word_size \u001b[38;5;241m=\u001b[39m \u001b[38;5;28mlen\u001b[39m(word)\n\u001b[0;32m----> 7\u001b[0m \u001b[38;5;28;01mif\u001b[39;00m \u001b[43mnumber_size\u001b[49m \u001b[38;5;241m<\u001b[39m word_size:\n\u001b[1;32m      8\u001b[0m   result \u001b[38;5;241m=\u001b[39m \u001b[38;5;28mprint\u001b[39m(\u001b[38;5;124m\"\u001b[39m\u001b[38;5;124mword[number_size-1]\u001b[39m\u001b[38;5;124m\"\u001b[39m)\n\u001b[1;32m      9\u001b[0m \u001b[38;5;28;01melse\u001b[39;00m: \n",
      "\u001b[0;31mNameError\u001b[0m: name 'number_size' is not defined"
     ]
    }
   ],
   "source": [
    "# AO\n",
    "word = input('Enter a word: ')\n",
    "number = input('Enter an integer: ')\n",
    "number = int(number)\n",
    "\n",
    "word_size = len(word)\n",
    "if number_size < word_size:\n",
    "  result = print(\"word[number_size-1]\")\n",
    "else: \n",
    "  print(f'The {word_size} is too big')"
   ]
  },
  {
   "cell_type": "code",
   "execution_count": 135,
   "metadata": {},
   "outputs": [
    {
     "data": {
      "text/plain": [
       "True"
      ]
     },
     "execution_count": 135,
     "metadata": {},
     "output_type": "execute_result"
    }
   ],
   "source": [
    "# More string stuff\n",
    "# we can search in a string with the \"in\" operator\n",
    "\n",
    "'a' in 'abcde'   # this will return True"
   ]
  },
  {
   "cell_type": "code",
   "execution_count": 136,
   "metadata": {},
   "outputs": [
    {
     "data": {
      "text/plain": [
       "False"
      ]
     },
     "execution_count": 136,
     "metadata": {},
     "output_type": "execute_result"
    }
   ],
   "source": [
    "'z' in 'abcde'  # this returns False"
   ]
  },
  {
   "cell_type": "code",
   "execution_count": 137,
   "metadata": {},
   "outputs": [
    {
     "data": {
      "text/plain": [
       "True"
      ]
     },
     "execution_count": 137,
     "metadata": {},
     "output_type": "execute_result"
    }
   ],
   "source": [
    "'abc' in 'abcde'  # returns True, because 'abc' is there in our string, all in a row"
   ]
  },
  {
   "cell_type": "code",
   "execution_count": 138,
   "metadata": {},
   "outputs": [
    {
     "data": {
      "text/plain": [
       "False"
      ]
     },
     "execution_count": 138,
     "metadata": {},
     "output_type": "execute_result"
    }
   ],
   "source": [
    "'ace' in 'abcde'  # returns False -- we are *not* asking if 'a', 'c', and 'e' are all in there"
   ]
  },
  {
   "cell_type": "code",
   "execution_count": 139,
   "metadata": {},
   "outputs": [],
   "source": [
    "# another useful string thing is the *slice*\n",
    "# so far, we've used [] to retrieve one character, but we can retrieve a bunch with a slice\n",
    "# the syntax is [starting_index:ending_index+1]\n",
    "# the ending index we specify is \"up to and not including\""
   ]
  },
  {
   "cell_type": "code",
   "execution_count": 141,
   "metadata": {},
   "outputs": [],
   "source": [
    "s = 'abcdefghij'"
   ]
  },
  {
   "cell_type": "code",
   "execution_count": 143,
   "metadata": {},
   "outputs": [
    {
     "data": {
      "text/plain": [
       "'efg'"
      ]
     },
     "execution_count": 143,
     "metadata": {},
     "output_type": "execute_result"
    }
   ],
   "source": [
    "s[4:7]   # e, f, g -- up to, and not including, index 7"
   ]
  },
  {
   "cell_type": "code",
   "execution_count": 146,
   "metadata": {},
   "outputs": [
    {
     "data": {
      "text/plain": [
       "'cdefghij'"
      ]
     },
     "execution_count": 146,
     "metadata": {},
     "output_type": "execute_result"
    }
   ],
   "source": [
    "s[2:10]   # you can actually go past the bounds of a string with a slice!"
   ]
  },
  {
   "cell_type": "code",
   "execution_count": 147,
   "metadata": {},
   "outputs": [
    {
     "data": {
      "text/plain": [
       "'abcde'"
      ]
     },
     "execution_count": 147,
     "metadata": {},
     "output_type": "execute_result"
    }
   ],
   "source": [
    "# you can also leave off one side or the other of the indexes\n",
    "\n",
    "s[:5]   # this means: from the start, up to and not including index 5"
   ]
  },
  {
   "cell_type": "code",
   "execution_count": 148,
   "metadata": {},
   "outputs": [
    {
     "data": {
      "text/plain": [
       "'fghij'"
      ]
     },
     "execution_count": 148,
     "metadata": {},
     "output_type": "execute_result"
    }
   ],
   "source": [
    "s[5:]  # this means: starting at index 5, through the end"
   ]
  },
  {
   "cell_type": "markdown",
   "metadata": {},
   "source": [
    "# Exercise: Pig Latin translator!\n",
    "\n",
    "Pig Latin is a children's \"secret\" language. To translate a word from English into Pig Latin, we check the first letter:\n",
    "\n",
    "- If the first letter is a vowel (a, e, i, o, u), then we add `way` to the word\n",
    "- In other cases, we move the first letter to the end, then add `ay`\n",
    "\n",
    "Note: There is no way to modify a string, or to move the first letter to the end. You'll need to create a new string based on what is already in the string, plus the Pig Latin rules.\n",
    "\n",
    "### Examples\n",
    "\n",
    "- computer -> omputercay\n",
    "- table -> abletay\n",
    "- water -> aterway\n",
    "- papaya -> apayapay\n",
    "- apple -> appleway\n",
    "- \n"
   ]
  },
  {
   "cell_type": "code",
   "execution_count": 151,
   "metadata": {},
   "outputs": [
    {
     "name": "stdin",
     "output_type": "stream",
     "text": [
      "Enter a word:  table\n"
     ]
    }
   ],
   "source": [
    "word = input('Enter a word: ')\n",
    "\n",
    "if word[0] == 'a' or word[0] == 'e' or word[0] == 'i' or word[0] == 'o' or word[0] == 'u':\n",
    "    print(word + 'way')"
   ]
  },
  {
   "cell_type": "code",
   "execution_count": 153,
   "metadata": {},
   "outputs": [
    {
     "name": "stdin",
     "output_type": "stream",
     "text": [
      "Enter a word:  papya\n"
     ]
    },
    {
     "name": "stdout",
     "output_type": "stream",
     "text": [
      "apyapay\n"
     ]
    }
   ],
   "source": [
    "# how about this:\n",
    "\n",
    "word = input('Enter a word: ')\n",
    "\n",
    "if word[0] in 'aeiou':\n",
    "    print(word + 'way')\n",
    "else:\n",
    "    print(word[1:] + word[0] + 'ay')   # all but the first + first + 'ay'"
   ]
  },
  {
   "cell_type": "code",
   "execution_count": null,
   "metadata": {},
   "outputs": [],
   "source": [
    "# MM\n",
    "\n",
    "plword = input('enter pig latin word: ')\n",
    "if not plword[0] == 'aeiou':   # this means: if the first character of plword isn't the same as 'aeiou'\n",
    "  newplword = plword[1:] + plword[0] + \"ay\"\n",
    "  print(f'new word is {newplword}')\n",
    "elif plword[0] == 'aeiou':\n",
    "  newplword = plword + \"way\"\n",
    "  print(f'new word is {newplword}')\n",
    "else:\n",
    "  print(f'please choose a word with alphabetical chars!')\n"
   ]
  },
  {
   "cell_type": "code",
   "execution_count": null,
   "metadata": {},
   "outputs": [],
   "source": [
    "# VK\n",
    "\n",
    "word = input('Enter a word: ')\n",
    "firstletter = word[0]\n",
    "if firstletter in 'aeiou':\n",
    "    print(word+'way')\n",
    "else:\n",
    "    newword = word[1:]\n",
    "    print(newword+word[0]+'ay')"
   ]
  },
  {
   "cell_type": "markdown",
   "metadata": {},
   "source": [
    "# Next up\n",
    "\n",
    "1. Methods\n",
    "2. Unicode\n",
    "3. Next steps -- what do I do after this class?"
   ]
  },
  {
   "cell_type": "markdown",
   "metadata": {},
   "source": [
    "# Methods\n",
    "\n",
    "We've used a bunch of functions in today's class. Functions are, again, the verbs in Python:\n",
    "\n",
    "- `print`\n",
    "- `input`\n",
    "- `len`\n",
    "- `int`\n",
    "- `str`\n",
    "\n",
    "The way that we've learned about functions is that there are functions, and there is data, and we need to make the connection between them. It's possible to call a function with a type of data that doesn't make sense, or that isn't supported.\n",
    "\n",
    "Another type of verb in Python is the \"method.\" Methods are attached to certain data types, ensuring that we cannot mix them up.\n",
    "\n",
    "Instead of saying\n",
    "\n",
    "    FUNCTION(DATA)\n",
    "\n",
    "we will say\n",
    "\n",
    "    DATA.METHOD()\n",
    "\n",
    "The method comes after a `.`, which comes after the data structure. This is a useful way for things to be organized, and also prevents the mismatch from happening.\n",
    "\n",
    "Most verbs in Python are methods, not functions. There are functions, and you can write functions, too -- but methods are far and away more common.\n",
    "\n",
    "Strings have a lot of useful methods, and I want to show some to you."
   ]
  },
  {
   "cell_type": "code",
   "execution_count": 155,
   "metadata": {},
   "outputs": [
    {
     "name": "stdin",
     "output_type": "stream",
     "text": [
      "Enter your name:        Reuven       \n"
     ]
    },
    {
     "name": "stdout",
     "output_type": "stream",
     "text": [
      "Hello,       Reuven       !\n"
     ]
    }
   ],
   "source": [
    "name = input('Enter your name: ')\n",
    "\n",
    "print(f'Hello, {name}!')"
   ]
  },
  {
   "cell_type": "code",
   "execution_count": 156,
   "metadata": {},
   "outputs": [
    {
     "data": {
      "text/plain": [
       "'      Reuven       '"
      ]
     },
     "execution_count": 156,
     "metadata": {},
     "output_type": "execute_result"
    }
   ],
   "source": [
    "name"
   ]
  },
  {
   "cell_type": "code",
   "execution_count": 157,
   "metadata": {},
   "outputs": [
    {
     "data": {
      "text/plain": [
       "'Reuven'"
      ]
     },
     "execution_count": 157,
     "metadata": {},
     "output_type": "execute_result"
    }
   ],
   "source": [
    "# the str.strip method returns a new string, based on an existing one,\n",
    "# without any leading/trailing whitespace (i.e., space, newline, and other blank formatting characters)\n",
    "\n",
    "name.strip()"
   ]
  },
  {
   "cell_type": "code",
   "execution_count": 158,
   "metadata": {},
   "outputs": [],
   "source": [
    "# calling the method on name DOES NOT CHANGE name!\n",
    "# Strings cannot be changed (they are \"immutable\") -- so we get a new string back, but no modification to the old one\n",
    "\n",
    "# we can call str.strip on *any* string\n",
    "# that includes the string we get back from the \"input\" function"
   ]
  },
  {
   "cell_type": "code",
   "execution_count": 159,
   "metadata": {},
   "outputs": [
    {
     "name": "stdin",
     "output_type": "stream",
     "text": [
      "Enter your name:        Reuven      \n"
     ]
    },
    {
     "name": "stdout",
     "output_type": "stream",
     "text": [
      "Hello, Reuven!\n"
     ]
    }
   ],
   "source": [
    "name = input('Enter your name: ')\n",
    "name = name.strip()\n",
    "\n",
    "print(f'Hello, {name}!')"
   ]
  },
  {
   "cell_type": "code",
   "execution_count": 160,
   "metadata": {},
   "outputs": [
    {
     "data": {
      "text/plain": [
       "'Reuven'"
      ]
     },
     "execution_count": 160,
     "metadata": {},
     "output_type": "execute_result"
    }
   ],
   "source": [
    "name"
   ]
  },
  {
   "cell_type": "code",
   "execution_count": 161,
   "metadata": {},
   "outputs": [
    {
     "name": "stdin",
     "output_type": "stream",
     "text": [
      "Enter your name:        Reuven      \n"
     ]
    },
    {
     "name": "stdout",
     "output_type": "stream",
     "text": [
      "Hello, Reuven!\n"
     ]
    }
   ],
   "source": [
    "# another way to do this:\n",
    "\n",
    "name = input('Enter your name: ').strip()\n",
    "\n",
    "print(f'Hello, {name}!')"
   ]
  },
  {
   "cell_type": "code",
   "execution_count": 163,
   "metadata": {},
   "outputs": [
    {
     "name": "stdin",
     "output_type": "stream",
     "text": [
      "Enter a number:  1a\n"
     ]
    },
    {
     "name": "stdout",
     "output_type": "stream",
     "text": [
      "1a is not numeric, and cannot be turned into an integer.\n"
     ]
    }
   ],
   "source": [
    "# so far, we've been assuming that when we ask a user to enter a number, they'll\n",
    "# enter a number. We can use the str.isdigit() method to tell us if a string \n",
    "# only contains digits. If so, then it returns True\n",
    "\n",
    "s = input('Enter a number: ').strip()\n",
    "if s.isdigit():    # this string only contains digits\n",
    "    n = int(s)     # it's safe to get an integer based on s\n",
    "    print(f'{n} * 2 = {n*2}')\n",
    "else:\n",
    "    print(f'{s} is not numeric, and cannot be turned into an integer.')"
   ]
  },
  {
   "cell_type": "markdown",
   "metadata": {},
   "source": [
    "# Capitalization methods\n",
    "\n",
    "Python's strings have many methods having to do with capitalization:\n",
    "\n",
    "- `str.upper` -- returns a new string with ALL UPPERCASE letters\n",
    "- `str.lower` -- returns a new string with all lowercase letters\n",
    "- `str.capitalize` -- returns a new string with all lowercase, except the first, which is capitalized\n",
    "- `str.title` -- returns a new string where each word starts with a capital letter, and the rest are lowercase"
   ]
  },
  {
   "cell_type": "code",
   "execution_count": 164,
   "metadata": {},
   "outputs": [
    {
     "data": {
      "text/plain": [
       "'ABCD EFGH'"
      ]
     },
     "execution_count": 164,
     "metadata": {},
     "output_type": "execute_result"
    }
   ],
   "source": [
    "s = 'aBcD eFgH'\n",
    "\n",
    "s.upper()"
   ]
  },
  {
   "cell_type": "code",
   "execution_count": 165,
   "metadata": {},
   "outputs": [
    {
     "data": {
      "text/plain": [
       "'abcd efgh'"
      ]
     },
     "execution_count": 165,
     "metadata": {},
     "output_type": "execute_result"
    }
   ],
   "source": [
    "s.lower()"
   ]
  },
  {
   "cell_type": "code",
   "execution_count": 166,
   "metadata": {},
   "outputs": [
    {
     "data": {
      "text/plain": [
       "'Abcd efgh'"
      ]
     },
     "execution_count": 166,
     "metadata": {},
     "output_type": "execute_result"
    }
   ],
   "source": [
    "s.capitalize()"
   ]
  },
  {
   "cell_type": "code",
   "execution_count": 167,
   "metadata": {},
   "outputs": [
    {
     "data": {
      "text/plain": [
       "'Abcd Efgh'"
      ]
     },
     "execution_count": 167,
     "metadata": {},
     "output_type": "execute_result"
    }
   ],
   "source": [
    "s.title()"
   ]
  },
  {
   "cell_type": "code",
   "execution_count": 168,
   "metadata": {},
   "outputs": [
    {
     "data": {
      "text/plain": [
       "'AbCd EfGh'"
      ]
     },
     "execution_count": 168,
     "metadata": {},
     "output_type": "execute_result"
    }
   ],
   "source": [
    "# the dumbest method in all of Python\n",
    "s.swapcase()"
   ]
  },
  {
   "cell_type": "code",
   "execution_count": 169,
   "metadata": {},
   "outputs": [],
   "source": [
    "# to see methods in Jupyter, type TAB to expand after . on a string\n",
    "\n"
   ]
  },
  {
   "cell_type": "markdown",
   "metadata": {},
   "source": [
    "# Exercise: Guessing game\n",
    "\n",
    "1. Define a variable, `number`, to contain an integer between 0-100.\n",
    "2. Print this for debugging (or cheating) purposes.\n",
    "3. Ask the user to guess the number. They will have a single chance.\n",
    "    - If they enter a non-numeric guess, scold them.\n",
    "    - If they get it, print that\n",
    "    - If they are too low, say that\n",
    "    - If they are too high, say that"
   ]
  },
  {
   "cell_type": "code",
   "execution_count": 177,
   "metadata": {},
   "outputs": [
    {
     "name": "stdout",
     "output_type": "stream",
     "text": [
      "Shh, the number is 72\n"
     ]
    },
    {
     "name": "stdin",
     "output_type": "stream",
     "text": [
      "Enter a guess:  72\n"
     ]
    },
    {
     "name": "stdout",
     "output_type": "stream",
     "text": [
      "You got it!\n"
     ]
    }
   ],
   "source": [
    "number = 72\n",
    "print(f'Shh, the number is {number}')\n",
    "\n",
    "s = input('Enter a guess: ').strip()\n",
    "\n",
    "if s.isdigit():    # only convert s into an integer, and then check, if it contains digits\n",
    "    \n",
    "    guess = int(s)\n",
    "    \n",
    "    if guess == number:\n",
    "        print(f'You got it!')\n",
    "    elif guess < number:\n",
    "        print('Too low')\n",
    "    else:\n",
    "        print('Too high')\n",
    "\n",
    "else:\n",
    "    print(f'{s} is not numeric')"
   ]
  },
  {
   "cell_type": "markdown",
   "metadata": {},
   "source": [
    "# Unicode\n",
    "\n",
    "Python strings can contain *any* character from *any* language and character set, thanks to Unicode, a standard for ensuring that all of the world's characters can be handled on computers.\n",
    "\n",
    "- In theory, your variable names can contain any characters, not just English. Please don't do this.\n",
    "- Practically, your strings can contain any characters\n",
    "\n"
   ]
  },
  {
   "cell_type": "code",
   "execution_count": 178,
   "metadata": {},
   "outputs": [
    {
     "name": "stdout",
     "output_type": "stream",
     "text": [
      "hello\n"
     ]
    }
   ],
   "source": [
    "s = 'hello'\n",
    "print(s)"
   ]
  },
  {
   "cell_type": "code",
   "execution_count": 179,
   "metadata": {},
   "outputs": [
    {
     "name": "stdout",
     "output_type": "stream",
     "text": [
      "שלום\n"
     ]
    }
   ],
   "source": [
    "s = 'שלום'\n",
    "print(s)"
   ]
  },
  {
   "cell_type": "code",
   "execution_count": 180,
   "metadata": {},
   "outputs": [
    {
     "name": "stdout",
     "output_type": "stream",
     "text": [
      "ש\n"
     ]
    }
   ],
   "source": [
    "print(s[0])  # what is the first character in \"shalom\""
   ]
  },
  {
   "cell_type": "code",
   "execution_count": 181,
   "metadata": {},
   "outputs": [
    {
     "name": "stdout",
     "output_type": "stream",
     "text": [
      "你\n"
     ]
    }
   ],
   "source": [
    "s = '你好'  \n",
    "print(s[0])"
   ]
  },
  {
   "cell_type": "code",
   "execution_count": 184,
   "metadata": {},
   "outputs": [
    {
     "name": "stdout",
     "output_type": "stream",
     "text": [
      "I ❤ you\n"
     ]
    }
   ],
   "source": [
    "# to insert any Unicode character with a 4-character code\n",
    "# then use \\u followed by the 4 digits. Note that the digits\n",
    "# are in hexadecimal, meaning base 16 -- so it'll include\n",
    "# 0-9, and then also a-f.\n",
    "\n",
    "print(f'I \\u2764 you')"
   ]
  },
  {
   "cell_type": "code",
   "execution_count": 185,
   "metadata": {},
   "outputs": [
    {
     "data": {
      "text/plain": [
       "73"
      ]
     },
     "execution_count": 185,
     "metadata": {},
     "output_type": "execute_result"
    }
   ],
   "source": [
    "ord('I')"
   ]
  },
  {
   "cell_type": "code",
   "execution_count": 186,
   "metadata": {},
   "outputs": [
    {
     "data": {
      "text/plain": [
       "121"
      ]
     },
     "execution_count": 186,
     "metadata": {},
     "output_type": "execute_result"
    }
   ],
   "source": [
    "ord('y')"
   ]
  },
  {
   "cell_type": "code",
   "execution_count": 190,
   "metadata": {},
   "outputs": [
    {
     "data": {
      "text/plain": [
       "'0x5d0'"
      ]
     },
     "execution_count": 190,
     "metadata": {},
     "output_type": "execute_result"
    }
   ],
   "source": [
    "hex(ord('א'))   # aleph"
   ]
  },
  {
   "cell_type": "code",
   "execution_count": 191,
   "metadata": {},
   "outputs": [
    {
     "name": "stdout",
     "output_type": "stream",
     "text": [
      "Alef is this: א\n"
     ]
    }
   ],
   "source": [
    "print(f'Alef is this: \\u05d0')"
   ]
  },
  {
   "cell_type": "code",
   "execution_count": 192,
   "metadata": {},
   "outputs": [
    {
     "data": {
      "text/plain": [
       "'א'"
      ]
     },
     "execution_count": 192,
     "metadata": {},
     "output_type": "execute_result"
    }
   ],
   "source": [
    "# If I have a character, and I want to know its unique Unicode number (\"code point\"), I can call \"ord\" on it\n",
    "# If I have a number, and I want to know what character is at that number, I call \"chr\" on it\n",
    "\n",
    "chr(0x05d0)"
   ]
  },
  {
   "cell_type": "code",
   "execution_count": 193,
   "metadata": {},
   "outputs": [
    {
     "data": {
      "text/plain": [
       "1488"
      ]
     },
     "execution_count": 193,
     "metadata": {},
     "output_type": "execute_result"
    }
   ],
   "source": [
    "ord('א')   #returns a decimal number"
   ]
  },
  {
   "cell_type": "code",
   "execution_count": 194,
   "metadata": {},
   "outputs": [
    {
     "data": {
      "text/plain": [
       "'0x5d0'"
      ]
     },
     "execution_count": 194,
     "metadata": {},
     "output_type": "execute_result"
    }
   ],
   "source": [
    "hex(ord('א'))   #returns a hexadecimal number"
   ]
  },
  {
   "cell_type": "markdown",
   "metadata": {},
   "source": [
    "# What's next?\n",
    "\n",
    "- There's a 5-week \"Python in 5 weeks\"e course that is similar to this (the first session is almost identical), starting November 5th at 9 a.m. Pacific\n",
    "- Al Sweigart's \"Automate the boring stuff\"\n",
    "- Eric Matthes's \"Python Crash Course\"\n",
    "- Python for Kids (games)\n",
    "\n",
    "The most important thing you can do: Practice and practice and practice.\n",
    "\n",
    "- Find things that you can automate\n",
    "- Start small! Even a tiny project can take a while, and teach you a lot\n",
    "- Go to meetups/conferences"
   ]
  },
  {
   "cell_type": "code",
   "execution_count": null,
   "metadata": {},
   "outputs": [],
   "source": []
  }
 ],
 "metadata": {
  "kernelspec": {
   "display_name": "Python 3 (ipykernel)",
   "language": "python",
   "name": "python3"
  },
  "language_info": {
   "codemirror_mode": {
    "name": "ipython",
    "version": 3
   },
   "file_extension": ".py",
   "mimetype": "text/x-python",
   "name": "python",
   "nbconvert_exporter": "python",
   "pygments_lexer": "ipython3",
   "version": "3.13.0"
  }
 },
 "nbformat": 4,
 "nbformat_minor": 4
}
