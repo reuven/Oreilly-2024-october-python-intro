{
 "cells": [
  {
   "cell_type": "markdown",
   "metadata": {},
   "source": [
    "# Agenda\n",
    "\n",
    "1. What is a programming language? What is Python?\n",
    "2. Using Jupyter (and where you can get/install/use it)\n",
    "3. Basic data (ints and strings)\n",
    "    - Assignment\n",
    "    - Variables\n",
    "    - How variables work (and so forth)\n",
    "    - Displaying things with `print`)\n",
    "4. Getting input from the user (with `input`)\n",
    "    - Assigning user input to a variable\n",
    "    - Simple f-strings\n",
    "5. Comparisons and equality\n",
    "    - `True` and `False`\n",
    "    - Comparisons with `==` and friends\n",
    "    - Using `if` and `else` to make decisions\n",
    "6. More complex conditions\n",
    "    - Using `elif` along with `if` and `else`\n",
    "    - Using `and`, `or`, and `not` to combine conditions in new ways\n",
    "7. Numbers\n",
    "    - integers\n",
    "    - floats\n",
    "8. Strings (text)\n",
    "    - Creating them\n",
    "    - Retrieving from them\n",
    "9. Working with strings in \"practical\" environments\n",
    "10. Methods\n",
    "    - Invoking methods on strings\n",
    "11. Non-English characters with Unicode"
   ]
  },
  {
   "cell_type": "markdown",
   "metadata": {},
   "source": [
    "# What is a programming language? What is Python?\n",
    "\n",
    "When computers were first invented, each computer could solve one problem. If you wanted to change the problem it was solving, you needed to rework the computer.\n",
    "\n",
    "People then came up with the idea of a general-purpose computer, one that could be used to solve many different problems. We could specify how we want to solve the problem by giving it instructions in binary code (1s and 0s). \n",
    "\n",
    "People then came up with the idea of a higher-level programming language, one that is closer to human language, but which is then translated into 1s and 0s.  There are hundreds of thousands of programming languages today, each of which works a little differently.\n",
    "\n",
    "- Some are designed to be very high level, closer to how humans think/write\n",
    "- Some are very low level, designed to be closer to how computers work\n",
    "- Some run very fast, some very slow\n",
    "- Some are good at graphics\n",
    "- Some are good at using very little memory\n",
    "- Some are good at designing chips\n",
    "\n",
    "You've probably heard of a bunch of them:\n",
    "- C (low level, runs very fast, and is very efficient)\n",
    "- C++ (a little higher level than C, also runs very fast and is very efficient -- and very complex)\n",
    "- Java (a lot higher level than C++, runs (now) very fast)\n",
    "- bash/zsh for shell scripts (it only is meant to be used in certain areas, and runs very slowly, but is great at working with files and directories)\n",
    "- Python (very high level, doesn't run super fast, but is meant to be readable)\n",
    "\n",
    "It's not that hard to write software! But you will spend most of your time debugging, editing, and changing software. If it's readable, then you'll have an easier time doing that.\n",
    "\n",
    "\"Low floors and high ceilings\" -- originally for the Logo language, but I think it's more appropriate for Python\n",
    "\n",
    "### Where is Python used?\n",
    "\n",
    "- Data analytics\n",
    "- Machine learning\n",
    "- Natural language processing\n",
    "- Devops (server allocation and configuration)\n",
    "- Cybersecurity\n",
    "- Web applications\n",
    "- APIs (creating and consuming)\n",
    "- Education (a ton of universities now teach Python as their first language for CS students)\n",
    "\n",
    "## Where is Python weak?\n",
    "\n",
    "- It doesn't execute that quickly. (The good news is that you can write/debug Python 10x faster than other languages. If your salary is greater than the cost of a cloud server for a few hours, then that's a big savings!)\n",
    "- It doesn't really have a lot of mobile facilities\n",
    "\n",
    "R is a language for statistics and analysis. For years, R was the go-to for stats programming.  Python has, slowly but surely, been eclipsing R -- in capabilities, and in popularity. A big reason is that Python is an all-purpose language, whereas R is really only meant for data analysis."
   ]
  },
  {
   "cell_type": "markdown",
   "metadata": {},
   "source": [
    "# How can you use Python?\n",
    "\n",
    "1. Install Python on your computer, and use an editor (either the IDLE editor that comes with Python, or another one that you can download, such as PyCharm or VSCode.) This can be a bit much for someone new to programming and Python to do.\n",
    "2. Use Anaconda, which is an all-in-one installer that makes it much easier to do step 1.\n",
    "3. Install Python on your computer, and install Jupyter, as well. Then you don't need to use an editor, but you can use Jupyter, like I do.\n",
    "4. Google Colab, which is a version of Jupyter that you can use, for free, via your browser. You'll need to create a new notebook in the Colab."
   ]
  },
  {
   "cell_type": "markdown",
   "metadata": {},
   "source": [
    "# Using Jupyter\n",
    "\n",
    "Jupyter gives you the illusion of having Python run inside of your browser. It breaks things into \"cells,\" rectangles into which you can type code or text. Each cell has a \"mode,\" either \"Markdown\" (for text) or \"code\" (for code).\n",
    "\n",
    "I'm typing now into a cell. This cell is in Markdown (formatted text) mode. There are actually two modes for typing into Jupyter:\n",
    "\n",
    "- Edit mode, where typing adds text to a cell. You can enter edit mode by clicking inside of a cell or pressing ENTER. Once in edit mode, anything you type is entered.\n",
    "- Command mode, where typing gives one-character commands to Jupyter. If you're in command mode, anything you type is *not* displayed. Rather, it tells Jupyter what you want to do. You can enter command mode by pressing ESC or clicking to the left of the cell.\n",
    "\n",
    "What commands can we use in command mode?\n",
    "- `c` -- copies the current cell\n",
    "- `x` -- cuts the current cell\n",
    "- `v` -- pastes the most recent cut/copy\n",
    "- `a` -- create a new cell above the current one\n",
    "- `b` -- create a new cell below the current one\n",
    "- `m` -- turn the current cell into Markdown\n",
    "- `y` -- turn the current cell into code\n",
    "\n",
    "Always, in both command and edit mode, shift+ENTER \"executes\" the cell. This means that if you've entered Markdown text, it'll be formatted. If you've entered Python code, it'll be run."
   ]
  },
  {
   "cell_type": "code",
   "execution_count": 3,
   "metadata": {},
   "outputs": [
    {
     "name": "stdout",
     "output_type": "stream",
     "text": [
      "Hello, world!\n"
     ]
    }
   ],
   "source": [
    "# this is a comment, starting with # and going to the end of the line\n",
    "# Python ignores comments completely. They are 100% for people (yourself and others) to know what's going on.\n",
    "\n",
    "print('Hello, world!')"
   ]
  },
  {
   "cell_type": "code",
   "execution_count": 4,
   "metadata": {},
   "outputs": [
    {
     "name": "stdout",
     "output_type": "stream",
     "text": [
      "Hello, Reuven!\n"
     ]
    }
   ],
   "source": [
    "print('Hello, Reuven!')"
   ]
  },
  {
   "cell_type": "code",
   "execution_count": 5,
   "metadata": {},
   "outputs": [
    {
     "name": "stdout",
     "output_type": "stream",
     "text": [
      "5\n"
     ]
    }
   ],
   "source": [
    "# can I use numbers?\n",
    "\n",
    "print(5)"
   ]
  },
  {
   "cell_type": "code",
   "execution_count": 7,
   "metadata": {},
   "outputs": [
    {
     "name": "stdout",
     "output_type": "stream",
     "text": [
      "8\n"
     ]
    }
   ],
   "source": [
    "# in this case, the stuff inside of the () gets evaluated by Python first. It sees 5+3,\n",
    "# and it knows that 5+3 gives us 8, and so print doesn't know that there was 5+3 there, it\n",
    "# just knows that it was to print 8.\n",
    "\n",
    "print(5 + 3)"
   ]
  },
  {
   "cell_type": "markdown",
   "metadata": {},
   "source": [
    "# Text is in quotes\n",
    "\n",
    "If we want Python to print text as we wrote it, we need to put it in quotes -- either single or double quotes are fine; Python doesn't care which you use, so long as you use the same type at the start and end of the text.\n",
    "\n",
    "Text in a programming language is known as a \"string.\" Strings in Python use either `''` or `\"\"` on the outside."
   ]
  },
  {
   "cell_type": "code",
   "execution_count": 8,
   "metadata": {},
   "outputs": [
    {
     "name": "stdout",
     "output_type": "stream",
     "text": [
      "8\n"
     ]
    }
   ],
   "source": [
    "print(5 + 3)"
   ]
  },
  {
   "cell_type": "code",
   "execution_count": 9,
   "metadata": {},
   "outputs": [
    {
     "name": "stdout",
     "output_type": "stream",
     "text": [
      "53\n"
     ]
    }
   ],
   "source": [
    "print('5' + '3')   # now I want to add together two text strings... will this work?"
   ]
  },
  {
   "cell_type": "markdown",
   "metadata": {},
   "source": [
    "When you add two strings together, you get a new string, the combination of the two. This is great, *except* if you have only \n",
    "digits in your string, when it can be confusing."
   ]
  },
  {
   "cell_type": "code",
   "execution_count": 11,
   "metadata": {},
   "outputs": [
    {
     "name": "stdout",
     "output_type": "stream",
     "text": [
      "Hello, world\n"
     ]
    }
   ],
   "source": [
    "# we can always join two strings with +\n",
    "# notice that I have a space after the comma in the first string\n",
    "\n",
    "print('Hello, ' + 'world')"
   ]
  },
  {
   "cell_type": "code",
   "execution_count": 12,
   "metadata": {},
   "outputs": [
    {
     "name": "stdout",
     "output_type": "stream",
     "text": [
      "Hello,world\n"
     ]
    }
   ],
   "source": [
    "# remove the space...\n",
    "print('Hello,' + 'world')"
   ]
  },
  {
   "cell_type": "markdown",
   "metadata": {},
   "source": []
  }
 ],
 "metadata": {
  "kernelspec": {
   "display_name": "Python 3 (ipykernel)",
   "language": "python",
   "name": "python3"
  },
  "language_info": {
   "codemirror_mode": {
    "name": "ipython",
    "version": 3
   },
   "file_extension": ".py",
   "mimetype": "text/x-python",
   "name": "python",
   "nbconvert_exporter": "python",
   "pygments_lexer": "ipython3",
   "version": "3.13.0"
  }
 },
 "nbformat": 4,
 "nbformat_minor": 4
}
