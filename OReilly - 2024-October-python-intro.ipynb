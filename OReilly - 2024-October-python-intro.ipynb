{
 "cells": [
  {
   "cell_type": "markdown",
   "metadata": {},
   "source": [
    "# Agenda\n",
    "\n",
    "1. What is a programming language? What is Python?\n",
    "2. Using Jupyter (and where you can get/install/use it)\n",
    "3. Basic data (ints and strings)\n",
    "    - Assignment\n",
    "    - Variables\n",
    "    - How variables work (and so forth)\n",
    "    - Displaying things with `print`)\n",
    "4. Getting input from the user (with `input`)\n",
    "    - Assigning user input to a variable\n",
    "    - Simple f-strings\n",
    "5. Comparisons and equality\n",
    "    - `True` and `False`\n",
    "    - Comparisons with `==` and friends\n",
    "    - Using `if` and `else` to make decisions\n",
    "6. More complex conditions\n",
    "    - Using `elif` along with `if` and `else`\n",
    "    - Using `and`, `or`, and `not` to combine conditions in new ways\n",
    "7. Numbers\n",
    "    - integers\n",
    "    - floats\n",
    "8. Strings (text)\n",
    "    - Creating them\n",
    "    - Retrieving from them\n",
    "9. Working with strings in \"practical\" environments\n",
    "10. Methods\n",
    "    - Invoking methods on strings\n",
    "11. Non-English characters with Unicode"
   ]
  },
  {
   "cell_type": "markdown",
   "metadata": {},
   "source": [
    "# What is a programming language? What is Python?\n",
    "\n",
    "When computers were first invented, each computer could solve one problem. If you wanted to change the problem it was solving, you needed to rework the computer.\n",
    "\n",
    "People then came up with the idea of a general-purpose computer, one that could be used to solve many different problems. We could specify how we want to solve the problem by giving it instructions in binary code (1s and 0s). \n",
    "\n",
    "People then came up with the idea of a higher-level programming language, one that is closer to human language, but which is then translated into 1s and 0s.  There are hundreds of thousands of programming languages today, each of which works a little differently.\n",
    "\n",
    "- Some are designed to be very high level, closer to how humans think/write\n",
    "- Some are very low level, designed to be closer to how computers work\n",
    "- Some run very fast, some very slow\n",
    "- Some are good at graphics\n",
    "- Some are good at using very little memory\n",
    "- Some are good at designing chips\n",
    "\n",
    "You've probably heard of a bunch of them:\n",
    "- C (low level, runs very fast, and is very efficient)\n",
    "- C++ (a little higher level than C, also runs very fast and is very efficient -- and very complex)\n",
    "- Java (a lot higher level than C++, runs (now) very fast)\n",
    "- bash/zsh for shell scripts (it only is meant to be used in certain areas, and runs very slowly, but is great at working with files and directories)\n",
    "- Python (very high level, doesn't run super fast, but is meant to be readable)\n",
    "\n",
    "It's not that hard to write software! But you will spend most of your time debugging, editing, and changing software. If it's readable, then you'll have an easier time doing that.\n",
    "\n",
    "\"Low floors and high ceilings\" -- originally for the Logo language, but I think it's more appropriate for Python\n",
    "\n",
    "### Where is Python used?\n",
    "\n",
    "- Data analytics\n",
    "- Machine learning\n",
    "- Natural language processing\n",
    "- Devops (server allocation and configuration)\n",
    "- Cybersecurity\n",
    "- Web applications\n",
    "- APIs (creating and consuming)\n",
    "- Education (a ton of universities now teach Python as their first language for CS students)\n",
    "\n",
    "## Where is Python weak?\n",
    "\n",
    "- It doesn't execute that quickly. (The good news is that you can write/debug Python 10x faster than other languages. If your salary is greater than the cost of a cloud server for a few hours, then that's a big savings!)\n",
    "- It doesn't really have a lot of mobile facilities\n",
    "\n",
    "R is a language for statistics and analysis. For years, R was the go-to for stats programming.  Python has, slowly but surely, been eclipsing R -- in capabilities, and in popularity. A big reason is that Python is an all-purpose language, whereas R is really only meant for data analysis."
   ]
  },
  {
   "cell_type": "markdown",
   "metadata": {},
   "source": [
    "# How can you use Python?\n",
    "\n",
    "1. Install Python on your computer, and use an editor (either the IDLE editor that comes with Python, or another one that you can download, such as PyCharm or VSCode.) This can be a bit much for someone new to programming and Python to do.\n",
    "2. Use Anaconda, which is an all-in-one installer that makes it much easier to do step 1.\n",
    "3. Install Python on your computer, and install Jupyter, as well. Then you don't need to use an editor, but you can use Jupyter, like I do.\n",
    "4. Google Colab, which is a version of Jupyter that you can use, for free, via your browser. You'll need to create a new notebook in the Colab."
   ]
  },
  {
   "cell_type": "markdown",
   "metadata": {},
   "source": [
    "# Using Jupyter\n",
    "\n",
    "Jupyter gives you the illusion of having Python run inside of your browser. It breaks things into \"cells,\" rectangles into which you can type code or text. Each cell has a \"mode,\" either \"Markdown\" (for text) or \"code\" (for code).\n",
    "\n",
    "I'm typing now into a cell. This cell is in Markdown (formatted text) mode. There are actually two modes for typing into Jupyter:\n",
    "\n",
    "- Edit mode, where typing adds text to a cell. You can enter edit mode by clicking inside of a cell or pressing ENTER. Once in edit mode, anything you type is entered.\n",
    "- Command mode, where typing gives one-character commands to Jupyter. If you're in command mode, anything you type is *not* displayed. Rather, it tells Jupyter what you want to do. You can enter command mode by pressing ESC or clicking to the left of the cell.\n",
    "\n",
    "What commands can we use in command mode?\n",
    "- `c` -- copies the current cell\n",
    "- `x` -- cuts the current cell\n",
    "- `v` -- pastes the most recent cut/copy\n",
    "- `a` -- create a new cell above the current one\n",
    "- `b` -- create a new cell below the current one\n",
    "- `m` -- turn the current cell into Markdown\n",
    "- `y` -- turn the current cell into code\n",
    "\n",
    "Always, in both command and edit mode, shift+ENTER \"executes\" the cell. This means that if you've entered Markdown text, it'll be formatted. If you've entered Python code, it'll be run."
   ]
  },
  {
   "cell_type": "code",
   "execution_count": 3,
   "metadata": {},
   "outputs": [
    {
     "name": "stdout",
     "output_type": "stream",
     "text": [
      "Hello, world!\n"
     ]
    }
   ],
   "source": [
    "# this is a comment, starting with # and going to the end of the line\n",
    "# Python ignores comments completely. They are 100% for people (yourself and others) to know what's going on.\n",
    "\n",
    "print('Hello, world!')"
   ]
  },
  {
   "cell_type": "code",
   "execution_count": 4,
   "metadata": {},
   "outputs": [
    {
     "name": "stdout",
     "output_type": "stream",
     "text": [
      "Hello, Reuven!\n"
     ]
    }
   ],
   "source": [
    "print('Hello, Reuven!')"
   ]
  },
  {
   "cell_type": "code",
   "execution_count": 5,
   "metadata": {},
   "outputs": [
    {
     "name": "stdout",
     "output_type": "stream",
     "text": [
      "5\n"
     ]
    }
   ],
   "source": [
    "# can I use numbers?\n",
    "\n",
    "print(5)"
   ]
  },
  {
   "cell_type": "code",
   "execution_count": 7,
   "metadata": {},
   "outputs": [
    {
     "name": "stdout",
     "output_type": "stream",
     "text": [
      "8\n"
     ]
    }
   ],
   "source": [
    "# in this case, the stuff inside of the () gets evaluated by Python first. It sees 5+3,\n",
    "# and it knows that 5+3 gives us 8, and so print doesn't know that there was 5+3 there, it\n",
    "# just knows that it was to print 8.\n",
    "\n",
    "print(5 + 3)"
   ]
  },
  {
   "cell_type": "markdown",
   "metadata": {},
   "source": [
    "# Text is in quotes\n",
    "\n",
    "If we want Python to print text as we wrote it, we need to put it in quotes -- either single or double quotes are fine; Python doesn't care which you use, so long as you use the same type at the start and end of the text.\n",
    "\n",
    "Text in a programming language is known as a \"string.\" Strings in Python use either `''` or `\"\"` on the outside."
   ]
  },
  {
   "cell_type": "code",
   "execution_count": 8,
   "metadata": {},
   "outputs": [
    {
     "name": "stdout",
     "output_type": "stream",
     "text": [
      "8\n"
     ]
    }
   ],
   "source": [
    "print(5 + 3)"
   ]
  },
  {
   "cell_type": "code",
   "execution_count": 9,
   "metadata": {},
   "outputs": [
    {
     "name": "stdout",
     "output_type": "stream",
     "text": [
      "53\n"
     ]
    }
   ],
   "source": [
    "print('5' + '3')   # now I want to add together two text strings... will this work?"
   ]
  },
  {
   "cell_type": "markdown",
   "metadata": {},
   "source": [
    "When you add two strings together, you get a new string, the combination of the two. This is great, *except* if you have only \n",
    "digits in your string, when it can be confusing."
   ]
  },
  {
   "cell_type": "code",
   "execution_count": 11,
   "metadata": {},
   "outputs": [
    {
     "name": "stdout",
     "output_type": "stream",
     "text": [
      "Hello, world\n"
     ]
    }
   ],
   "source": [
    "# we can always join two strings with +\n",
    "# notice that I have a space after the comma in the first string\n",
    "\n",
    "print('Hello, ' + 'world')"
   ]
  },
  {
   "cell_type": "code",
   "execution_count": 12,
   "metadata": {},
   "outputs": [
    {
     "name": "stdout",
     "output_type": "stream",
     "text": [
      "Hello,world\n"
     ]
    }
   ],
   "source": [
    "# remove the space...\n",
    "print('Hello,' + 'world')"
   ]
  },
  {
   "cell_type": "markdown",
   "metadata": {},
   "source": [
    "Computers do what you tell them to do, not what you want them to do!"
   ]
  },
  {
   "cell_type": "code",
   "execution_count": 13,
   "metadata": {},
   "outputs": [
    {
     "name": "stdout",
     "output_type": "stream",
     "text": [
      "Hello, world!\n"
     ]
    }
   ],
   "source": [
    "print('Hello, ' + 'world' + '!')"
   ]
  },
  {
   "cell_type": "markdown",
   "metadata": {},
   "source": [
    "# Variables\n",
    "\n",
    "If we're going to use a value many times in a program, then we should store it in a *variable* and then use it multiple times.\n",
    "\n",
    "If you think of data as *nouns*, and functions (like `print`) as *verbs*, then variables are *pronouns*, referring to data.\n",
    "\n",
    "A variable is just a reference to some data that you can refer to. You can then use the variable instead of the data itself.\n"
   ]
  },
  {
   "cell_type": "code",
   "execution_count": 14,
   "metadata": {},
   "outputs": [
    {
     "name": "stdout",
     "output_type": "stream",
     "text": [
      "Hello, Reuven\n"
     ]
    }
   ],
   "source": [
    "print('Hello, ' + 'Reuven')"
   ]
  },
  {
   "cell_type": "code",
   "execution_count": 17,
   "metadata": {},
   "outputs": [
    {
     "name": "stdout",
     "output_type": "stream",
     "text": [
      "Hello, Reuven\n"
     ]
    }
   ],
   "source": [
    "name = 'Reuven'           # here, I'm assigning the value 'Reuven' to the variable name\n",
    "print('Hello, ' + name)   # here, I'm using name instead of the value 'Reuven', and it still works"
   ]
  },
  {
   "cell_type": "markdown",
   "metadata": {},
   "source": [
    "# Variables and assignment\n",
    "\n",
    "If you want to assign a value to a variable in Python, you use `=`, the \"assignment operator.\"\n",
    "\n",
    "**THIS IS NOT THE SAME IDEA AS `=` IN MATH!**\n",
    "\n",
    "Assignment always works from right to left:\n",
    "- The value on the right is computed\n",
    "- Whatever we got on the right is assigned to the variable on the left\n",
    "\n",
    "Variables **NEVER** have quotes around their names. That's how Python distinguishes a variable from a string.\n",
    "\n",
    "What can we call our variables? Almost anything we want:\n",
    "\n",
    "- Variable names can contain letters, digits, and `_`\n",
    "- Capital and lowercase letters are completely different. So the variable `x` and the variable `X` have nothing to do with one another, from Python's perspective.\n",
    "- You cannot start a variable with a digit.\n",
    "- You *should* not start or end a variable name with an `_`\n",
    "- We normally just use lowercase letters, not capitals, in Python\n",
    "- The variable name is completely irrelevant to Python; use something that makes sense to you, and which makes the program easier to understand.\n"
   ]
  },
  {
   "cell_type": "code",
   "execution_count": 18,
   "metadata": {},
   "outputs": [
    {
     "name": "stdout",
     "output_type": "stream",
     "text": [
      "30\n"
     ]
    }
   ],
   "source": [
    "x = 10\n",
    "y = 20\n",
    "\n",
    "print(x + y)"
   ]
  },
  {
   "cell_type": "code",
   "execution_count": 21,
   "metadata": {},
   "outputs": [
    {
     "name": "stdout",
     "output_type": "stream",
     "text": [
      "Hello, Reuven\n"
     ]
    }
   ],
   "source": [
    "x = 'Hello, '\n",
    "y = 'Reuven'\n",
    "\n",
    "print(x + y)"
   ]
  },
  {
   "cell_type": "code",
   "execution_count": 22,
   "metadata": {},
   "outputs": [
    {
     "ename": "TypeError",
     "evalue": "unsupported operand type(s) for +: 'int' and 'str'",
     "output_type": "error",
     "traceback": [
      "\u001b[0;31m---------------------------------------------------------------------------\u001b[0m",
      "\u001b[0;31mTypeError\u001b[0m                                 Traceback (most recent call last)",
      "Cell \u001b[0;32mIn[22], line 10\u001b[0m\n\u001b[1;32m      3\u001b[0m y \u001b[38;5;241m=\u001b[39m \u001b[38;5;124m'\u001b[39m\u001b[38;5;124m20\u001b[39m\u001b[38;5;124m'\u001b[39m   \u001b[38;5;66;03m# this is a string, not an integer!\u001b[39;00m\n\u001b[1;32m      5\u001b[0m \u001b[38;5;66;03m# Python here has three choices:\u001b[39;00m\n\u001b[1;32m      6\u001b[0m \u001b[38;5;66;03m# 1. Treat x like a string, and give us '1020'\u001b[39;00m\n\u001b[1;32m      7\u001b[0m \u001b[38;5;66;03m# 2. Treat y like an integer, and give us 30\u001b[39;00m\n\u001b[1;32m      8\u001b[0m \u001b[38;5;66;03m# 3. Panic!\u001b[39;00m\n\u001b[0;32m---> 10\u001b[0m \u001b[38;5;28mprint\u001b[39m(\u001b[43mx\u001b[49m\u001b[43m \u001b[49m\u001b[38;5;241;43m+\u001b[39;49m\u001b[43m \u001b[49m\u001b[43my\u001b[49m)\n",
      "\u001b[0;31mTypeError\u001b[0m: unsupported operand type(s) for +: 'int' and 'str'"
     ]
    }
   ],
   "source": [
    "# what happens if I try to mix things up a bit?\n",
    "x = 10\n",
    "y = '20'   # this is a string, not an integer!\n",
    "\n",
    "# Python here has three choices:\n",
    "# 1. Treat x like a string, and give us '1020'\n",
    "# 2. Treat y like an integer, and give us 30\n",
    "# 3. Panic!\n",
    "\n",
    "print(x + y)"
   ]
  },
  {
   "cell_type": "markdown",
   "metadata": {},
   "source": [
    "A lot of programming is:\n",
    "\n",
    "- Assigning values to variables (from user input, from files, from the Internet, from databases)\n",
    "- Doing some calculation/modification\n",
    "- Printing a result with some variables' values"
   ]
  },
  {
   "cell_type": "markdown",
   "metadata": {},
   "source": [
    "# Exercise:\n",
    "1. Define `x` and `y` to be integers. Assign the result of adding them together to a third variable, `result`. Use `print` to display `result`. (Don't try to mix strings and integers together in the same output just yet!)\n",
    "2. Assign your name to the variable `name`. Print a nice greeting to yourself, using the variable.\n",
    "\n",
    "I'm setting up the \"pulse check\":\n",
    "- If you finish, click on the thumbs up\n",
    "- If you cannot get it / are confused / don't know -- then click on the thumbs down *and* tell me what is the problem in the Q&A"
   ]
  },
  {
   "cell_type": "code",
   "execution_count": 23,
   "metadata": {},
   "outputs": [
    {
     "name": "stdout",
     "output_type": "stream",
     "text": [
      "579\n"
     ]
    }
   ],
   "source": [
    "# first question\n",
    "\n",
    "x = 123     # these are integers, just digits without quotes around them\n",
    "y = 456\n",
    "\n",
    "result = x + y\n",
    "\n",
    "print(result)"
   ]
  },
  {
   "cell_type": "code",
   "execution_count": 25,
   "metadata": {},
   "outputs": [
    {
     "name": "stdout",
     "output_type": "stream",
     "text": [
      "579\n"
     ]
    }
   ],
   "source": [
    "# AO did this:\n",
    "\n",
    "result = x + y\n",
    "print(result)"
   ]
  },
  {
   "cell_type": "code",
   "execution_count": 27,
   "metadata": {},
   "outputs": [
    {
     "name": "stdout",
     "output_type": "stream",
     "text": [
      "Greetings, Reuven.\n"
     ]
    }
   ],
   "source": [
    "# second question\n",
    "\n",
    "name = 'Reuven'\n",
    "result = 'Greetings, ' + name + '.'\n",
    "print(result)"
   ]
  },
  {
   "cell_type": "code",
   "execution_count": 28,
   "metadata": {},
   "outputs": [
    {
     "name": "stdout",
     "output_type": "stream",
     "text": [
      "30\n"
     ]
    }
   ],
   "source": [
    "# JH noticed that the spaces before and after = are optional\n",
    "\n",
    "x = 10\n",
    "y = 20\n",
    "print(x+y)"
   ]
  },
  {
   "cell_type": "code",
   "execution_count": 29,
   "metadata": {},
   "outputs": [
    {
     "name": "stdout",
     "output_type": "stream",
     "text": [
      "30\n"
     ]
    }
   ],
   "source": [
    "x=10\n",
    "y=20\n",
    "print(x+y)"
   ]
  },
  {
   "cell_type": "markdown",
   "metadata": {},
   "source": [
    "The only difference between `''` and `\"\"` in Python is that `\"\"` use twice as much electricity."
   ]
  },
  {
   "cell_type": "code",
   "execution_count": 30,
   "metadata": {},
   "outputs": [
    {
     "name": "stdout",
     "output_type": "stream",
     "text": [
      "3\n"
     ]
    }
   ],
   "source": [
    "# assignment removes any previous value that a variable had\n",
    "\n",
    "x = 10\n",
    "x = 7\n",
    "x = 3\n",
    "\n",
    "print(x)"
   ]
  },
  {
   "cell_type": "markdown",
   "metadata": {},
   "source": [
    "# Next up\n",
    "\n",
    "- Getting input from the user\n",
    "- Using f-strings\n",
    "- Handling numbers vs. text"
   ]
  },
  {
   "cell_type": "code",
   "execution_count": 31,
   "metadata": {},
   "outputs": [
    {
     "ename": "TypeError",
     "evalue": "can only concatenate str (not \"int\") to str",
     "output_type": "error",
     "traceback": [
      "\u001b[0;31m---------------------------------------------------------------------------\u001b[0m",
      "\u001b[0;31mTypeError\u001b[0m                                 Traceback (most recent call last)",
      "Cell \u001b[0;32mIn[31], line 6\u001b[0m\n\u001b[1;32m      3\u001b[0m name \u001b[38;5;241m=\u001b[39m \u001b[38;5;124m'\u001b[39m\u001b[38;5;124mReuven\u001b[39m\u001b[38;5;124m'\u001b[39m\n\u001b[1;32m      4\u001b[0m result \u001b[38;5;241m=\u001b[39m x \u001b[38;5;241m+\u001b[39m y\n\u001b[0;32m----> 6\u001b[0m \u001b[38;5;28mprint\u001b[39m(\u001b[38;5;124;43m'\u001b[39;49m\u001b[38;5;124;43mGood morning \u001b[39;49m\u001b[38;5;124;43m'\u001b[39;49m\u001b[43m \u001b[49m\u001b[38;5;241;43m+\u001b[39;49m\u001b[43m \u001b[49m\u001b[43mname\u001b[49m\u001b[43m \u001b[49m\u001b[38;5;241;43m+\u001b[39;49m\u001b[38;5;124;43m'\u001b[39;49m\u001b[38;5;124;43mYou have added these two numbers: \u001b[39;49m\u001b[38;5;124;43m'\u001b[39;49m\u001b[43m \u001b[49m\u001b[38;5;241;43m+\u001b[39;49m\u001b[43m \u001b[49m\u001b[43mresult\u001b[49m )\n",
      "\u001b[0;31mTypeError\u001b[0m: can only concatenate str (not \"int\") to str"
     ]
    }
   ],
   "source": [
    "# AO\n",
    "\n",
    "name = 'Reuven'\n",
    "result = x + y\n",
    "\n",
    "print('Good morning ' + name + 'You have added these two numbers: ' + result )"
   ]
  },
  {
   "cell_type": "code",
   "execution_count": 32,
   "metadata": {},
   "outputs": [
    {
     "name": "stdout",
     "output_type": "stream",
     "text": [
      "Good morning, Reuven\n"
     ]
    }
   ],
   "source": [
    "print('Good morning, ' + name)"
   ]
  },
  {
   "cell_type": "code",
   "execution_count": 33,
   "metadata": {},
   "outputs": [
    {
     "name": "stdout",
     "output_type": "stream",
     "text": [
      "23\n"
     ]
    }
   ],
   "source": [
    "print(result)"
   ]
  },
  {
   "cell_type": "markdown",
   "metadata": {},
   "source": [
    "# f-strings\n",
    "\n",
    "We have encountered two problems so far with strings:\n",
    "\n",
    "- If we have a value that we want to stick inside of a string, we can't; instead, we use `+` along with the value and a string\n",
    "- If we have a non-textual value (i.e., an integer), and we want to display it along with a string, then we can't do that easily. This is because integers aren't strings, and we cannot use `+` with them.\n",
    "\n",
    "We can turn any value we want into a string by invoking `str` on it. That is: If I say `str(5)`, I get back `'5'` (a string) rather than `5` (an integer)."
   ]
  },
  {
   "cell_type": "code",
   "execution_count": 34,
   "metadata": {},
   "outputs": [
    {
     "name": "stdout",
     "output_type": "stream",
     "text": [
      "The value of x is 10, and the value of y is 20.\n"
     ]
    }
   ],
   "source": [
    "# unfortunately, this works\n",
    "# no one wants to write code that looks like this!\n",
    "\n",
    "x = 10\n",
    "y = 20\n",
    "\n",
    "print('The value of x is ' + str(x) + ', and the value of y is ' + str(y) + '.')"
   ]
  },
  {
   "cell_type": "code",
   "execution_count": 35,
   "metadata": {},
   "outputs": [
    {
     "name": "stdout",
     "output_type": "stream",
     "text": [
      "The value of x is 10, and the value of y is 20\n"
     ]
    }
   ],
   "source": [
    "# better is to use an f-string\n",
    "# an f-string is a string that has an f before the opening quote\n",
    "# inside of an f-string, we can put {}, containing any Python expression (a value, a variable, or an operation on a value/variable)\n",
    "# if the value is not a string, it is turned into a string!\n",
    "\n",
    "# I can now rewrite the above code as:\n",
    "x = 10\n",
    "y = 20\n",
    "\n",
    "print(f'The value of x is {x}, and the value of y is {y}')"
   ]
  },
  {
   "cell_type": "code",
   "execution_count": 36,
   "metadata": {},
   "outputs": [
    {
     "name": "stdout",
     "output_type": "stream",
     "text": [
      "The value of 10 + 20 = 30\n"
     ]
    }
   ],
   "source": [
    "print(f'The value of {x} + {y} = {x+y}')"
   ]
  },
  {
   "cell_type": "code",
   "execution_count": 37,
   "metadata": {},
   "outputs": [
    {
     "name": "stdout",
     "output_type": "stream",
     "text": [
      "How are you doing today, Reuven?\n"
     ]
    }
   ],
   "source": [
    "name = 'Reuven'\n",
    "\n",
    "print(f'How are you doing today, {name}?')"
   ]
  },
  {
   "cell_type": "markdown",
   "metadata": {},
   "source": [
    "I can now write a program in which I define values in advance, assign them to variables, and display them. Normally, a program will want to get some sort of input from the user.\n",
    "\n",
    "Python provides us with the `input` function, which pauses the program, asks the user to enter a value, and then returns that value. Typically, we'll then assign the value we got from `input` to a variable.\n",
    "\n",
    "In other words, we'll use it like this:\n",
    "\n"
   ]
  },
  {
   "cell_type": "code",
   "execution_count": 39,
   "metadata": {},
   "outputs": [
    {
     "name": "stdin",
     "output_type": "stream",
     "text": [
      "Enter your name:  Reuven\n"
     ]
    }
   ],
   "source": [
    "# in assignment, the right side runs before the left side\n",
    "# here, input will run, wait for the user to enter something, and whatever\n",
    "# the user entered will be assigned (as a text string) to the variable name\n",
    "\n",
    "name = input('Enter your name: ')"
   ]
  },
  {
   "cell_type": "code",
   "execution_count": 40,
   "metadata": {},
   "outputs": [
    {
     "name": "stdout",
     "output_type": "stream",
     "text": [
      "Reuven\n"
     ]
    }
   ],
   "source": [
    "print(name)"
   ]
  },
  {
   "cell_type": "code",
   "execution_count": 41,
   "metadata": {},
   "outputs": [
    {
     "name": "stdout",
     "output_type": "stream",
     "text": [
      "Hello, Reuven.\n"
     ]
    }
   ],
   "source": [
    "print(f'Hello, {name}.')"
   ]
  },
  {
   "cell_type": "markdown",
   "metadata": {},
   "source": [
    "# Exercise: Greeting\n",
    "\n",
    "1. Ask the user to enter their name, and assign to the variable `name`.\n",
    "2. Ask the user to enter their city, and assign to the variable `city`.\n",
    "3. Print a nice greeting that includes the user's name and city."
   ]
  },
  {
   "cell_type": "code",
   "execution_count": 43,
   "metadata": {},
   "outputs": [
    {
     "name": "stdin",
     "output_type": "stream",
     "text": [
      "Enter your name:  asdfasfsafsdafsafsa\n",
      "Enter your city:  ljlpjalsdfdaslfjsafl;kj\n"
     ]
    },
    {
     "name": "stdout",
     "output_type": "stream",
     "text": [
      "Hello, asdfasfsafsdafsafsa from ljlpjalsdfdaslfjsafl;kj!\n"
     ]
    }
   ],
   "source": [
    "name = input('Enter your name: ')\n",
    "city = input('Enter your city: ')\n",
    "\n",
    "print(f'Hello, {name} from {city}!')"
   ]
  },
  {
   "cell_type": "code",
   "execution_count": 44,
   "metadata": {},
   "outputs": [],
   "source": [
    "# RS got this:\n",
    "\n",
    "# <PyodideFuture finished result='Robert Myles Sheppard'> from <PyodideFuture finished result='London'>\n",
    "\n"
   ]
  },
  {
   "cell_type": "markdown",
   "metadata": {},
   "source": [
    "Some versions of Jupyter (known as \"JupyterLite\") work great... except for `input`. \n",
    "\n",
    "The solution? Don't use JupyterLite."
   ]
  },
  {
   "cell_type": "markdown",
   "metadata": {},
   "source": [
    "# Comparisons\n",
    "\n",
    "If we have two values, we can find out if they are the same by using `==` to compare them.\n",
    "\n",
    "**NOTE: This is `==`, which compares values -- not `=`, which assigns values**\n",
    "\n",
    "When we use `==` to compare two values, we'll get back one of two values from Python:\n",
    "- `True`\n",
    "- `False`\n"
   ]
  },
  {
   "cell_type": "code",
   "execution_count": 46,
   "metadata": {},
   "outputs": [
    {
     "data": {
      "text/plain": [
       "True"
      ]
     },
     "execution_count": 46,
     "metadata": {},
     "output_type": "execute_result"
    }
   ],
   "source": [
    "# only in Jupyter, and *ONLY* in Jupyter, if the final line of a cell gives us a value,\n",
    "# then we don't need to use print to see it.  \n",
    "\n",
    "5 == 5    "
   ]
  },
  {
   "cell_type": "code",
   "execution_count": 47,
   "metadata": {},
   "outputs": [
    {
     "data": {
      "text/plain": [
       "True"
      ]
     },
     "execution_count": 47,
     "metadata": {},
     "output_type": "execute_result"
    }
   ],
   "source": [
    "10 == 10"
   ]
  },
  {
   "cell_type": "code",
   "execution_count": 48,
   "metadata": {},
   "outputs": [
    {
     "data": {
      "text/plain": [
       "False"
      ]
     },
     "execution_count": 48,
     "metadata": {},
     "output_type": "execute_result"
    }
   ],
   "source": [
    "5 == 10"
   ]
  },
  {
   "cell_type": "code",
   "execution_count": 49,
   "metadata": {},
   "outputs": [
    {
     "data": {
      "text/plain": [
       "True"
      ]
     },
     "execution_count": 49,
     "metadata": {},
     "output_type": "execute_result"
    }
   ],
   "source": [
    "x = 10\n",
    "y = 20\n",
    "\n",
    "x == x  "
   ]
  },
  {
   "cell_type": "code",
   "execution_count": 50,
   "metadata": {},
   "outputs": [
    {
     "data": {
      "text/plain": [
       "False"
      ]
     },
     "execution_count": 50,
     "metadata": {},
     "output_type": "execute_result"
    }
   ],
   "source": [
    "x == y"
   ]
  },
  {
   "cell_type": "markdown",
   "metadata": {},
   "source": [
    "# Comparison operators\n",
    "\n",
    "- `==` -- equality; returns `True` if they are the same value\n",
    "- `!=` -- inequality; opposite of `==`\n",
    "- `>` -- greater than; returns `True` if the left value is bigger than the right value\n",
    "- `>=` -- greater than or equal; returns `True` if the left value is bigger than the right value or equal to it\n",
    "- `<` -- less than; returns `True` if the left value is smaller than the right value\n",
    "- `<=` -- less than or equal; returns `True` if the left value is smaller than the right value or equal to it\n",
    "\n",
    "These operators work on numbers, but they also work on strings! \n",
    "\n",
    "- If two strings are identical, then `==` will return `True`.\n",
    "- We can also use `<` and `>` to compare strings; we'll find out which comes first alphabetically"
   ]
  },
  {
   "cell_type": "code",
   "execution_count": 52,
   "metadata": {},
   "outputs": [
    {
     "data": {
      "text/plain": [
       "True"
      ]
     },
     "execution_count": 52,
     "metadata": {},
     "output_type": "execute_result"
    }
   ],
   "source": [
    "# chicken comes before egg, alphabetically\n",
    "\n",
    "'chicken' < 'egg'"
   ]
  },
  {
   "cell_type": "code",
   "execution_count": null,
   "metadata": {},
   "outputs": [],
   "source": []
  }
 ],
 "metadata": {
  "kernelspec": {
   "display_name": "Python 3 (ipykernel)",
   "language": "python",
   "name": "python3"
  },
  "language_info": {
   "codemirror_mode": {
    "name": "ipython",
    "version": 3
   },
   "file_extension": ".py",
   "mimetype": "text/x-python",
   "name": "python",
   "nbconvert_exporter": "python",
   "pygments_lexer": "ipython3",
   "version": "3.13.0"
  }
 },
 "nbformat": 4,
 "nbformat_minor": 4
}
