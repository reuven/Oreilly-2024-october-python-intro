{
 "cells": [
  {
   "cell_type": "markdown",
   "metadata": {},
   "source": [
    "# Agenda\n",
    "\n",
    "1. What is a programming language? What is Python?\n",
    "2. Using Jupyter (and where you can get/install/use it)\n",
    "3. Basic data (ints and strings)\n",
    "    - Assignment\n",
    "    - Variables\n",
    "    - How variables work (and so forth)\n",
    "    - Displaying things with `print`)\n",
    "4. Getting input from the user (with `input`)\n",
    "    - Assigning user input to a variable\n",
    "    - Simple f-strings\n",
    "5. Comparisons and equality\n",
    "    - `True` and `False`\n",
    "    - Comparisons with `==` and friends\n",
    "    - Using `if` and `else` to make decisions\n",
    "6. More complex conditions\n",
    "    - Using `elif` along with `if` and `else`\n",
    "    - Using `and`, `or`, and `not` to combine conditions in new ways\n",
    "7. Numbers\n",
    "    - integers\n",
    "    - floats\n",
    "8. Strings (text)\n",
    "    - Creating them\n",
    "    - Retrieving from them\n",
    "9. Working with strings in \"practical\" environments\n",
    "10. Methods\n",
    "    - Invoking methods on strings\n",
    "11. Non-English characters with Unicode"
   ]
  },
  {
   "cell_type": "code",
   "execution_count": null,
   "metadata": {},
   "outputs": [],
   "source": []
  }
 ],
 "metadata": {
  "kernelspec": {
   "display_name": "Python 3 (ipykernel)",
   "language": "python",
   "name": "python3"
  },
  "language_info": {
   "codemirror_mode": {
    "name": "ipython",
    "version": 3
   },
   "file_extension": ".py",
   "mimetype": "text/x-python",
   "name": "python",
   "nbconvert_exporter": "python",
   "pygments_lexer": "ipython3",
   "version": "3.13.0"
  }
 },
 "nbformat": 4,
 "nbformat_minor": 4
}
